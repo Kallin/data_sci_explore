{
 "cells": [
  {
   "cell_type": "markdown",
   "metadata": {},
   "source": [
    "Notes taken from [here](https://www.safaribooksonline.com/library/view/hands-on-machine-learning/9781491962282/ch01.html).\n",
    "\n",
    "---"
   ]
  },
  {
   "cell_type": "markdown",
   "metadata": {},
   "source": [
    "### What is Machine Learning?\n",
    "\n",
    "ML Definition: Gives computers ability to learn without being told explicitly what to do. Often they improve with experience.\n",
    "\n",
    "---"
   ]
  },
  {
   "cell_type": "markdown",
   "metadata": {},
   "source": [
    "### Why use Machine Learning?\n",
    "\n",
    "- complex rules such as a spam filter. Easier to have a computer find the patterns than to program them all.\n",
    "- problems without known algorithmic solutions, ie. speech recognition.\n",
    "- can help humans learn. ML can find patterns humans never would that can be illuminating, aka data mining.\n",
    "- can deal with changing data, ie adjusting spam rules over time.\n",
    "\n",
    "---"
   ]
  },
  {
   "cell_type": "markdown",
   "metadata": {},
   "source": [
    "### Types of Machine Learning\n",
    "\n",
    "Can be classified as:\n",
    "\n",
    "- supervised/unsupervised\n",
    "- online/batch (can they learn on the fly)\n",
    "- instance based vs. model based. (compare to existing data or build a model)\n",
    "\n",
    "#### Supervision\n",
    "\n",
    "4 types:\n",
    "- Supervised\n",
    "- Unsupervised\n",
    "- Semi-Supervised\n",
    "- Reinforcement\n",
    "\n",
    "\n",
    "##### Supervised\n",
    "\n",
    "The algorithm is given solutions (labels) to the training data so that it knows how it should be labeling. Often used for classification (hotdog/not-hotdog) or regression (finding a numeric value based on attributes, aka real estate price based on location/size/etc).\n",
    "\n",
    "Some regression algorithms can be used for classification, ie. to give a % chance that something is a given classification.\n",
    "\n",
    "Common algortihms:\n",
    "\n",
    "- k-nearest neighbors\n",
    "- linear regression\n",
    "- logistic regression\n",
    "- support vector machines (SVMs)\n",
    "- decision trees / random forests\n",
    "- neural networks\n",
    "\n",
    "##### Unsupervised\n",
    "\n",
    "Data is unlabled. System tries to find patterns.\n",
    "\n",
    "\n",
    "Common Algorithms:\n",
    "\n",
    "- clustering\n",
    "- k-means\n",
    "- hierarchical cluster analysis (HCA)\n",
    "- expectation maximization\n",
    "- visualization and dimensionality reduction\n",
    "- principal component analysis (PCA)\n",
    "- kernal PCA\n",
    "- locally-linear embedding (LLE)\n",
    "- t-stochastic neigbor embedding (t-SNE)\n",
    "- association rule learning\n",
    "- apriori\n",
    "- eclat\n",
    "\n",
    "*clustering* can find large groups that share characteristic you may have never considered. ie, 50% of all users are from a given city and of a certain age etc.\n",
    "\n",
    "*visualization* takes a high dimensionality dataset and reduces it to 2/3D so that it can be visualized so humans can look for patterns.\n",
    "\n",
    "*dimensionality reduction* is related to visualization. it's the process of combining attributes that are highly correlated. This can improve the speed and accuracy of model training.\n",
    "\n",
    "*anomaly detection* is when the algorithm detects unusual data points. useful for fraud prevention etc.\n",
    "\n",
    "*association rule learning* is discovering interesting relations between attributes. ie. a driver that drives over 100km/day often speeds etc.\n",
    "\n",
    "##### Semi-supervised\n",
    "\n",
    "Data is mostly unlabeled with some labels. Combination of supervised/unsupervised algorithms. IE, identify a few faces  in pictures and photo app identifies the rest.\n",
    "\n",
    "##### Reinforcement\n",
    "\n",
    "An agent is exposed to an environment, and then rewarded/penalized based on it's actions (policy). Maximuming rewards and minimizing penalties can lead to strong policies. IE alphaGO.\n",
    "\n",
    "#### Batch vs Online learning\n",
    "\n",
    "Some machine learning algorithms can learn incrementally, some cannot.\n",
    "\n",
    "2 types:\n",
    "- Batch\n",
    "- Online\n",
    "\n",
    "##### Batch\n",
    "\n",
    "The system is trained using all available data at once. It can be resource intensive. If you want to add new datapoints for the model to consider, the entire system needs to be retrained.\n",
    "\n",
    "##### Online\n",
    "\n",
    "Data is fed to the system incrementally, or in small batches. Learning is fast, so the system can adapt to changing conditions on the fly.\n",
    "\n",
    "Online learning can happen 'out of core' when training set doesn't fit in memory. Here, the training data is split into multiple batches to be run sequentially.\n",
    "\n",
    "The 'learning rate' affects how quickly/slowly an online model adapts to change. Too quick and they will forget older patterns, too slow and they will fail to adjust to new patterns.\n",
    "\n",
    "Bad data can corrupt the model, and may require rolling back to a known 'good' model.\n",
    "\n",
    "#### Instance-Based Versus Model-Based Learning\n",
    "\n",
    "Defines how data is generalized.\n",
    "\n",
    "2 types:\n",
    "- Instance-Based\n",
    "- Model-Based\n",
    "\n",
    "##### Instance-Based\n",
    "\n",
    "Samples are memorized by the system, and new data is compared to samples using a measure of similarity to find the most similar.\n",
    "\n",
    "##### Model-Based\n",
    "\n",
    "System builds a model, and that model is used to make predictions. Original samples can be forgotten.\n",
    "\n",
    "---\n"
   ]
  },
  {
   "cell_type": "markdown",
   "metadata": {},
   "source": [
    "\n",
    "### Main Challenges of Machine Learning\n",
    "\n",
    "- bad algorithms\n",
    "- bad data\n",
    "\n",
    "#### Insufficient Quantity of Training Data\n",
    "\n",
    "A lot of data required. Thousands of samples for simple problems, sometimes millions for more complicated problems.\n",
    "\n",
    "#### Nonrepresentative Training Data\n",
    "\n",
    "If your data is not representative of all the types of data it will be unable to generalize to new data that is outside the scope of what it has been trained on.\n",
    "\n",
    "#### Poor Quality Data\n",
    "\n",
    "Errors and noise in the data will corrupt the model. Much time needs to be spent on 'data cleaning' before training a model.\n",
    "\n",
    "#### Irrelevant Features\n",
    "\n",
    "Good features must be selected, aka 'feature engineering'. This process consists of:\n",
    "\n",
    "- Feature Selection: Selecting only useful features\n",
    "- Feature Extraction: Combining features to produce richer featuers, aka dimensionality reduction.\n",
    "- Creating new features by collecting more data.\n",
    "\n",
    "#### Overfitting the Training Data\n",
    "\n",
    "Model performs well on training data, but doesn't generalize well. Can happen when model is too complex compared to size and noisiness of training data.\n",
    "\n",
    "Possible solutions include:\n",
    "\n",
    "- Choosing a model with fewer parameters (et. linear instead of polynomial). Aka 'regularization'.\n",
    "- Gather more training data\n",
    "- Reduce noise in training data\n",
    "\n",
    "#### Underfitting the Training Data\n",
    "\n",
    "Occurs when model is too simple to learn the structure of the data.\n",
    "Solutions include:\n",
    "\n",
    "- Using a more powerful model with more parameters.\n",
    "- Better feature engineering.\n",
    "- Reducing constraints on the model (reduce regularization hyperparameters).\n",
    "\n",
    "---"
   ]
  },
  {
   "cell_type": "markdown",
   "metadata": {},
   "source": [
    "### Testing and Validation\n",
    "\n",
    "To know if a model works it needs to be tested. Data can be split into training and validation (holdout) sets to validate that the model trained on training set still works when shown test set. Often 80% training and 20% test split is used. For even better results cross-validation can be used, create different training/test splits and running on all of them to ensure that all data gets a chance to be trained on and tested against.\n",
    "\n",
    "---"
   ]
  },
  {
   "cell_type": "markdown",
   "metadata": {},
   "source": [
    "## Exercises"
   ]
  },
  {
   "cell_type": "markdown",
   "metadata": {},
   "source": [
    "**Q1**: How would you define Machine Learning?\n",
    "\n",
    "Machine learning is the ability for a computer to learn to solve problems without being explicity programmed how to do so. ML systems can improve given more experience."
   ]
  },
  {
   "cell_type": "markdown",
   "metadata": {},
   "source": [
    "**Q2:** Can you name 4 types of problems and where it shines?\n",
    "\n",
    "- Problems with too many rules to hand code (spam filter)\n",
    "- Problems with no algorithmic solution (translation, voice recognition etc.)\n",
    "- Problems that need to adapt while running to changing environments.\n",
    "- Allowing humans to learn (data mining)."
   ]
  },
  {
   "cell_type": "markdown",
   "metadata": {},
   "source": [
    "**Q3:** What is a labeled training set?\n",
    "\n",
    "A dataset used to train a model with a set of known labels that the model will be trained to assign to future, unknown data."
   ]
  },
  {
   "cell_type": "markdown",
   "metadata": {},
   "source": [
    "**Q4:** What are the two most common supervised tasks?\n",
    "\n",
    "- Classification\n",
    "- Regression"
   ]
  },
  {
   "cell_type": "markdown",
   "metadata": {},
   "source": [
    "**Q5:** Can you name 4 common unsupervised tasks?\n",
    "\n",
    "- Clustering\n",
    "- Visualization\n",
    "- Dimensionality Reduction\n",
    "- Anomaly Detection\n",
    "- Association Rule Learning"
   ]
  },
  {
   "cell_type": "markdown",
   "metadata": {},
   "source": [
    "**Q6:** What type of ML algoritm would you use to allow a robot to walk in various unknown terrains?\n",
    "\n",
    "Reinforcement learning. It would learn a policy given positive rewards as it navigates its environment."
   ]
  },
  {
   "cell_type": "markdown",
   "metadata": {},
   "source": [
    "**Q7**: What type of algorithm would you use to segment your customers into multiple groups.\n",
    "\n",
    "Clustering"
   ]
  },
  {
   "cell_type": "markdown",
   "metadata": {},
   "source": [
    "**Q8**: Would you frame the problem of spam detection as a supervised learning problem or an unsupervised learning problem?\n",
    "\n",
    "Supervised learning, assuming you already have examples of spam/not-spam."
   ]
  },
  {
   "cell_type": "markdown",
   "metadata": {},
   "source": [
    "**Q9**: What is an online learning system?\n",
    "\n",
    "A system that learns incrementally while being exposed to new data. Capable of adapting to changing conditions."
   ]
  },
  {
   "cell_type": "markdown",
   "metadata": {},
   "source": [
    "**Q10:** What is out-of-core learning?\n",
    "\n",
    "It is online learning when the problem doesn't fit in system memory. So big batch is broken up into smaller batches."
   ]
  },
  {
   "cell_type": "markdown",
   "metadata": {},
   "source": [
    "**Q11:** What type of learning algorithm relies on a similarity measure to make predictions?\n",
    "\n",
    "Instance based learning."
   ]
  },
  {
   "cell_type": "markdown",
   "metadata": {},
   "source": [
    "**Q12:** What is the difference between a model parameter and a learning algorithm’s hyperparameter?\n",
    "\n",
    "A hyperparameter controls how an algorithm operates, such as learning rate or regularization. A model parameter is an output of the algorithm that defines the model."
   ]
  },
  {
   "cell_type": "markdown",
   "metadata": {},
   "source": [
    "**Q13**: What do model-based learning algorithms search for? What is the most common strategy they use to succeed? How do they make predictions?\n",
    "\n",
    "They search for optimal parameters to make generalizations from the training data to the test data. They often proceed by trying to minimize some cost function. New instances are fed into the model using the parameters found during training to make predictions."
   ]
  },
  {
   "cell_type": "markdown",
   "metadata": {},
   "source": [
    "**Q14:** Can you name four of the main challenges in Machine Learning?\n",
    "\n",
    "- overfitting\n",
    "- underfitting\n",
    "- unrepresentative data\n",
    "- insufficient data\n",
    "- errors in data (bad data)\n",
    "- useless features"
   ]
  },
  {
   "cell_type": "markdown",
   "metadata": {},
   "source": [
    "**Q15:** If your model performs great on the training data but generalizes poorly to new instances, what is happening? Can you name three possible solutions?\n",
    "\n",
    "It's overfitting the training data. You could apply some regularlization, cross-validate, choose a different model, add more data, reducing noise in the training data."
   ]
  },
  {
   "cell_type": "markdown",
   "metadata": {},
   "source": [
    "**Q16:** What is a test set and why would you want to use it?\n",
    "\n",
    "You use it to validate the model that you built with your training set."
   ]
  },
  {
   "cell_type": "markdown",
   "metadata": {},
   "source": [
    "**Q17:** What is the purpose of a validation set?\n",
    "\n",
    "It's used as a holdout set that the algorithm can't see during training, to ensure that your model generalizes well."
   ]
  },
  {
   "cell_type": "markdown",
   "metadata": {},
   "source": [
    "**Q18:** What can go wrong if you tune hyperparameters using the test set?\n",
    "\n",
    "You may overfit the model."
   ]
  },
  {
   "cell_type": "markdown",
   "metadata": {},
   "source": [
    "**Q19**: What is cross-validation and why would you prefer it to a validation set?\n",
    "\n",
    "It uses different combinations of data as training/validation sets so you can measure the effectiveness multiple times. It allows you to use more data to train the model and gives more accurate measure of the model's effectiveness."
   ]
  }
 ],
 "metadata": {
  "kernelspec": {
   "display_name": "Python 3",
   "language": "python",
   "name": "python3"
  },
  "language_info": {
   "codemirror_mode": {
    "name": "ipython",
    "version": 3
   },
   "file_extension": ".py",
   "mimetype": "text/x-python",
   "name": "python",
   "nbconvert_exporter": "python",
   "pygments_lexer": "ipython3",
   "version": "3.5.2"
  }
 },
 "nbformat": 4,
 "nbformat_minor": 1
}
