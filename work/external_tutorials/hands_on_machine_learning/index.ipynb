{
 "cells": [
  {
   "cell_type": "markdown",
   "metadata": {},
   "source": [
    "Herein lie notes and worked examples from the book 'Hands on Machine Learning with Scikit Learn and TensorFlow', available [here](https://www.safaribooksonline.com/library/view/hands-on-machine-learning/9781491962282/).\n",
    "\n",
    "Github repo available [here](https://github.com/ageron/handson-ml).\n",
    "\n",
    "---\n",
    "\n",
    "- [Chapter 1 - The Machine Learning Landscape](chapter_1/index.ipynb)\n",
    "- [Chapter 2 - End to End Machine Learning Project](chapter_2/index.ipynb)\n",
    "- [Chapter 3 - Classification](chapter_3/index.ipynb)\n",
    "- [Chapter 4 - Training Models](chapter_4/index.ipynb)\n",
    "\n"
   ]
  }
 ],
 "metadata": {
  "kernelspec": {
   "display_name": "Python 3",
   "language": "python",
   "name": "python3"
  },
  "language_info": {
   "codemirror_mode": {
    "name": "ipython",
    "version": 3
   },
   "file_extension": ".py",
   "mimetype": "text/x-python",
   "name": "python",
   "nbconvert_exporter": "python",
   "pygments_lexer": "ipython3",
   "version": "3.6.5"
  }
 },
 "nbformat": 4,
 "nbformat_minor": 2
}
