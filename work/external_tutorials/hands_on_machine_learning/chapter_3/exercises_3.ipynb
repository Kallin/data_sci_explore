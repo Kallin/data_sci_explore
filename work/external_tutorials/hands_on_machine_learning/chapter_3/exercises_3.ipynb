{
 "cells": [
  {
   "cell_type": "markdown",
   "metadata": {},
   "source": [
    "### Exercises\n",
    "\n",
    "**Q3**: Tackle the Titanic dataset. A great place to start is on Kaggle.\n",
    "\n",
    "**A3**: Kaggle solution developed [here](../../../kaggle/titanic/index.ipynb).\n",
    "\n",
    "**Q4**: Build a spam classifier (a more challenging exercise):\n",
    "\n",
    "Download examples of spam and ham from [Apache SpamAssassin’s public datasets](http://spamassassin.apache.org/old/publiccorpus/).\n",
    "\n",
    "Unzip the datasets and familiarize yourself with the data format.\n",
    "\n",
    "Split the datasets into a training set and a test set.\n",
    "\n",
    "Write a data preparation pipeline to convert each email into a feature vector. Your preparation pipeline should transform an email into a (sparse) vector indicating the presence or absence of each possible word. For example, if all emails only ever contain four words, “Hello,” “how,” “are,” “you,” then the email “Hello you Hello Hello you” would be converted into a vector [1, 0, 0, 1] (meaning [“Hello” is present, “how” is absent, “are” is absent, “you” is present]), or [3, 0, 0, 2] if you prefer to count the number of occurrences of each word.\n",
    "\n",
    "You may want to add hyperparameters to your preparation pipeline to control whether or not to strip off email headers, convert each email to lowercase, remove punctuation, replace all URLs with “URL,” replace all numbers with “NUMBER,” or even perform stemming (i.e., trim off word endings; there are Python libraries available to do this).\n",
    "\n",
    "Then try out several classifiers and see if you can build a great spam classifier, with both high recall and high precision.\n",
    "\n",
    "\n",
    "**A4**: Solution below:"
   ]
  },
  {
   "cell_type": "markdown",
   "metadata": {},
   "source": [
    "From the ReadME:\n",
    "\n",
    "OK, now onto the corpus description.  It's split into three parts, as follows:\n",
    "\n",
    "  - spam: 500 spam messages, all received from non-spam-trap sources.\n",
    "\n",
    "  - easy_ham: 2500 non-spam messages.  These are typically quite easy to\n",
    "    differentiate from spam, since they frequently do not contain any spammish\n",
    "    signatures (like HTML etc).\n",
    "\n",
    "  - hard_ham: 250 non-spam messages which are closer in many respects to\n",
    "    typical spam: use of HTML, unusual HTML markup, coloured text,\n",
    "    \"spammish-sounding\" phrases etc.\n",
    "\n",
    "  - easy_ham_2: 1400 non-spam messages.  A more recent addition to the set.\n",
    "\n",
    "  - spam_2: 1397 spam messages.  Again, more recent.\n"
   ]
  },
  {
   "cell_type": "code",
   "execution_count": 1,
   "metadata": {},
   "outputs": [],
   "source": [
    "# let's download each of:\n",
    "# - spam\n",
    "# - spam_2\n",
    "# - easy_ham\n",
    "# - easy_ham_2\n",
    "# - hard_ham\n",
    "\n",
    "\n",
    "import os\n",
    "import tarfile\n",
    "from six.moves import urllib\n",
    "\n",
    "DOWNLOAD_ROOT = \"http://spamassassin.apache.org/old/publiccorpus/\"\n",
    "LOCAL_DATA_DIR = './tmp/'\n",
    "\n",
    "file_names = [\n",
    "    '20030228_spam.tar.bz2',\n",
    "    '20050311_spam_2.tar.bz2',\n",
    "    '20030228_easy_ham.tar.bz2',\n",
    "    '20030228_easy_ham_2.tar.bz2',\n",
    "    '20030228_hard_ham.tar.bz2',\n",
    "]\n",
    "\n",
    "dirs = [\n",
    "    'spam',\n",
    "    'spam_2',\n",
    "    'easy_ham',\n",
    "    'easy_ham_2',\n",
    "    'hard_ham',    \n",
    "]\n",
    "\n",
    "def fetch_file(file_name):\n",
    "    download_path = LOCAL_DATA_DIR + file_name\n",
    "    file_url = DOWNLOAD_ROOT + file_name\n",
    "    if not (os.path.exists(download_path)):\n",
    "        os.makedirs(LOCAL_DATA_DIR, exist_ok=True)\n",
    "        tgz_path = os.path.join(LOCAL_DATA_DIR, file_name)\n",
    "        urllib.request.urlretrieve(file_url, tgz_path)\n",
    "        spam_tgz = tarfile.open(tgz_path)\n",
    "        spam_tgz.extractall(path=LOCAL_DATA_DIR)\n",
    "        spam_tgz.close()\n",
    "\n",
    "for file_name in file_names:\n",
    "    fetch_file(file_name)"
   ]
  },
  {
   "cell_type": "markdown",
   "metadata": {},
   "source": [
    "At this point we've downloaded all the spam and ham into ./tmp.\n",
    "\n",
    "It came in as zipfiles, and we extracted them all into their own subfolders (spam, spam_2, etc.)\n",
    "\n",
    "Since they are all emails, we should use a library that can interpret the files and extract headers, etc.\n",
    "\n"
   ]
  },
  {
   "cell_type": "code",
   "execution_count": 2,
   "metadata": {},
   "outputs": [],
   "source": [
    "file_name = LOCAL_DATA_DIR +'/easy_ham_2/' + '00001.1a31cc283af0060967a233d26548a6ce'\n",
    "# file_name = LOCAL_DATA_DIR +'/spam_2/' + '00002.9438920e9a55591b18e60d1ed37d992b'\n",
    "\n",
    "# Import the email modules we'll need\n",
    "import email\n",
    "from email.message import EmailMessage\n",
    "\n",
    "# Open the plain text file whose name is in textfile for reading.\n",
    "with open(file_name) as f:\n",
    "    msg = email.message_from_file(f)\n",
    "\n",
    "# msg is one of these: https://docs.python.org/3/library/email.message.html"
   ]
  },
  {
   "cell_type": "code",
   "execution_count": 3,
   "metadata": {},
   "outputs": [
    {
     "data": {
      "text/plain": [
       "[('Return-Path', '<exmh-workers-admin@spamassassin.taint.org>'),\n",
       " ('Delivered-To', 'yyyy@localhost.netnoteinc.com'),\n",
       " ('Received',\n",
       "  'from localhost (localhost [127.0.0.1])\\n\\tby phobos.labs.netnoteinc.com (Postfix) with ESMTP id 7106643C34\\n\\tfor <jm@localhost>; Wed, 21 Aug 2002 08:33:03 -0400 (EDT)'),\n",
       " ('Received',\n",
       "  'from phobos [127.0.0.1]\\n\\tby localhost with IMAP (fetchmail-5.9.0)\\n\\tfor jm@localhost (single-drop); Wed, 21 Aug 2002 13:33:03 +0100 (IST)'),\n",
       " ('Received',\n",
       "  'from listman.spamassassin.taint.org (listman.spamassassin.taint.org [66.187.233.211]) by\\n    dogma.slashnull.org (8.11.6/8.11.6) with ESMTP id g7LCXvZ24654 for\\n    <jm-exmh@jmason.org>; Wed, 21 Aug 2002 13:33:57 +0100'),\n",
       " ('Received',\n",
       "  'from listman.spamassassin.taint.org (localhost.localdomain [127.0.0.1]) by\\n    listman.redhat.com (Postfix) with ESMTP id F12A13EA25; Wed, 21 Aug 2002\\n    08:34:00 -0400 (EDT)'),\n",
       " ('Delivered-To', 'exmh-workers@listman.spamassassin.taint.org'),\n",
       " ('Received',\n",
       "  'from int-mx1.corp.spamassassin.taint.org (int-mx1.corp.spamassassin.taint.org\\n    [172.16.52.254]) by listman.redhat.com (Postfix) with ESMTP id 750D33F945\\n    for <exmh-workers@listman.redhat.com>; Wed, 21 Aug 2002 08:30:55 -0400\\n    (EDT)'),\n",
       " ('Received',\n",
       "  '(from mail@localhost) by int-mx1.corp.spamassassin.taint.org (8.11.6/8.11.6)\\n    id g7LCUqx17585 for exmh-workers@listman.redhat.com; Wed, 21 Aug 2002\\n    08:30:52 -0400'),\n",
       " ('Received',\n",
       "  'from mx1.spamassassin.taint.org (mx1.spamassassin.taint.org [172.16.48.31]) by\\n    int-mx1.corp.redhat.com (8.11.6/8.11.6) with SMTP id g7LCUqY17578 for\\n    <exmh-workers@redhat.com>; Wed, 21 Aug 2002 08:30:52 -0400'),\n",
       " ('Received',\n",
       "  'from ratree.psu.ac.th ([202.28.97.6]) by mx1.spamassassin.taint.org\\n    (8.11.6/8.11.6) with SMTP id g7LCGNl23207 for <exmh-workers@redhat.com>;\\n    Wed, 21 Aug 2002 08:16:24 -0400'),\n",
       " ('Received',\n",
       "  'from delta.cs.mu.OZ.AU (delta.coe.psu.ac.th [172.30.0.98]) by\\n    ratree.psu.ac.th (8.11.6/8.11.6) with ESMTP id g7LCUIl27286;\\n    Wed, 21 Aug 2002 19:30:19 +0700 (ICT)'),\n",
       " ('Received',\n",
       "  'from munnari.OZ.AU (localhost [127.0.0.1]) by delta.cs.mu.OZ.AU\\n    (8.11.6/8.11.6) with ESMTP id g7LCU1W09629; Wed, 21 Aug 2002 19:30:01\\n    +0700 (ICT)'),\n",
       " ('From', 'Robert Elz <kre@munnari.OZ.AU>'),\n",
       " ('To', 'Chris Garrigues <cwg-dated-1030314468.7c7c85@DeepEddy.Com>'),\n",
       " ('Cc', 'exmh-workers@spamassassin.taint.org'),\n",
       " ('Subject', 'Re: New Sequences Window'),\n",
       " ('In-Reply-To', '<1029882468.3116.TMDA@deepeddy.vircio.com>'),\n",
       " ('References', '<1029882468.3116.TMDA@deepeddy.vircio.com>'),\n",
       " ('MIME-Version', '1.0'),\n",
       " ('Content-Type', 'text/plain; charset=us-ascii'),\n",
       " ('Message-Id', '<9627.1029933001@munnari.OZ.AU>'),\n",
       " ('X-Loop', 'exmh-workers@spamassassin.taint.org'),\n",
       " ('Sender', 'exmh-workers-admin@spamassassin.taint.org'),\n",
       " ('Errors-To', 'exmh-workers-admin@spamassassin.taint.org'),\n",
       " ('X-Beenthere', 'exmh-workers@spamassassin.taint.org'),\n",
       " ('X-Mailman-Version', '2.0.1'),\n",
       " ('Precedence', 'bulk'),\n",
       " ('List-Help',\n",
       "  '<mailto:exmh-workers-request@spamassassin.taint.org?subject=help>'),\n",
       " ('List-Post', '<mailto:exmh-workers@spamassassin.taint.org>'),\n",
       " ('List-Subscribe',\n",
       "  '<https://listman.spamassassin.taint.org/mailman/listinfo/exmh-workers>,\\n    <mailto:exmh-workers-request@redhat.com?subject=subscribe>'),\n",
       " ('List-Id',\n",
       "  'Discussion list for EXMH developers <exmh-workers.spamassassin.taint.org>'),\n",
       " ('List-Unsubscribe',\n",
       "  '<https://listman.spamassassin.taint.org/mailman/listinfo/exmh-workers>,\\n    <mailto:exmh-workers-request@redhat.com?subject=unsubscribe>'),\n",
       " ('List-Archive',\n",
       "  '<https://listman.spamassassin.taint.org/mailman/private/exmh-workers/>'),\n",
       " ('Date', 'Wed, 21 Aug 2002 19:30:01 +0700')]"
      ]
     },
     "execution_count": 3,
     "metadata": {},
     "output_type": "execute_result"
    }
   ],
   "source": [
    "# and see all the headers etc. like this:\n",
    "msg.items()"
   ]
  },
  {
   "cell_type": "code",
   "execution_count": 4,
   "metadata": {},
   "outputs": [],
   "source": [
    "# It looks like one of the first things we should do is strip the html and generally clean up the text\n",
    "# beautiful soup and the NLTK to the rescue! \n",
    "# beautiful soup: https://www.crummy.com/software/BeautifulSoup/\n",
    "# NLTK: https://www.nltk.org/"
   ]
  },
  {
   "cell_type": "code",
   "execution_count": 5,
   "metadata": {},
   "outputs": [],
   "source": [
    "payload = msg.get_payload()\n",
    "\n",
    "from bs4 import BeautifulSoup\n",
    "soup = BeautifulSoup(payload, 'html5lib')\n",
    "raw_text = soup.get_text(strip=True)"
   ]
  },
  {
   "cell_type": "code",
   "execution_count": 6,
   "metadata": {},
   "outputs": [
    {
     "name": "stdout",
     "output_type": "stream",
     "text": [
      "Date:        Tue, 20 Aug 2002 17:27:47 -0500\n",
      "    From:        Chris GarriguesMessage-ID:  <1029882468.3116.TMDA@deepeddy.vircio.com>\n",
      "\n",
      "\n",
      "  | I'm hoping that all people with no additional sequences will notice are\n",
      "  | purely cosmetic changes.\n",
      "\n",
      "Well, first, when exmh (the latest one with your changes) starts, I get...\n",
      "\n",
      "can't read \"flist(totalcount,unseen)\": no such element in array\n",
      "    while executing\n",
      "\"if {$flist(totalcount,$mhProfile(unseen-sequence)) > 0} {\n",
      "\tFlagInner spool iconspool labelup\n",
      "    } else {\n",
      "\tFlagInner down icondown labeldown\n",
      "    }\"\n",
      "    (procedure \"Flag_MsgSeen\" line 3)\n",
      "    invoked from within\n",
      "\"Flag_MsgSeen\"\n",
      "    (procedure \"MsgSeen\" line 8)\n",
      "    invoked from within\n",
      "\"MsgSeen $msgid\"\n",
      "    (procedure \"MsgShow\" line 12)\n",
      "    invoked from within\n",
      "\"MsgShow $msgid\"\n",
      "    (procedure \"MsgChange\" line 17)\n",
      "    invoked from within\n",
      "\"MsgChange 4862 show\"\n",
      "    invoked from within\n",
      "\"time [list MsgChange $msgid $show\"\n",
      "    (procedure \"Msg_Change\" line 3)\n",
      "    invoked from within\n",
      "\"Msg_Change $msg(id) $show\"\n",
      "    (procedure \"Msg_Show\" line 7)\n",
      "    invoked from within\n",
      "\"Msg_Show cur\"\n",
      "    (\"eval\" body line 1)\n",
      "    invoked from within\n",
      "\"eval $msgShowProc\"\n",
      "    (procedure \"FolderChange\" line 55)\n",
      "    invoked from within\n",
      "\"FolderChange inbox {Msg_Show cur}\"\n",
      "    invoked from within\n",
      "\"time [list  FolderChange $folder $msgShowProc\"\n",
      "    (procedure \"Folder_Change\" line 3)\n",
      "    invoked from within\n",
      "\"Folder_Change $exmh(folder)\"\n",
      "    (procedure \"Exmh\" line 101)\n",
      "    invoked from within\n",
      "\"Exmh\"\n",
      "    (\"after\" script)\n",
      "\n",
      "which is probably related to my not having an \"unseen\" sequence anywhere\n",
      "(certainly not in inbox) - I read all of my outstanding mail before I\n",
      "tried this new exmh ...\n",
      "\n",
      "Second, I've been used to having a key binding which was to Msg_MarkUnseen\n",
      "which doesn't seem to exist any more, and I'm not sure what I should replace\n",
      "that with.   There's obviously a way as the \"Sequences\" menu does this.\n",
      "The \"Mark Unseen\" menu entry in the message \"More\" menu is still wanting\n",
      "that function as well...\n",
      "\n",
      "  | For those who have other sequences defined, the window will widen to\n",
      "  | display the other sequences.\n",
      "\n",
      "Any chance of having that lengthen instead?   I like all my exmh stuff\n",
      "in nice columns (fits the display better).   That is, I use the detached\n",
      "folder list, one column.   The main exmh window takes up full screen,\n",
      "top to bottom, but less than half the width, etc...\n",
      "\n",
      "I have space for more sequences, in the \"unseen\" window, as long as they\n",
      "remain once nice narrow window (best would be if the sequences could be\n",
      "ordered by some preference, then ones which didn't fit would just fall\n",
      "off the bottom, and not be shown).\n",
      "\n",
      "I'd also prefer it if that window had no unusual background colouring,\n",
      "just one constant colour - I have been running the unseen window with\n",
      "background black, on a root window that is all black, with no borders or\n",
      "other decorations, but made \"sticky\" - the appearance is just like the\n",
      "folders with unseen messages (and their counts) are written into the\n",
      "root window (because it is sticky, this small display follows me around\n",
      "and do I can see when new mail needs processing).\n",
      "\n",
      "I also find that I tend to have a bunch of sequences that only ever occur\n",
      "in one folder (some I had forgotten I ever created).  So in addition to\n",
      "the \"sequences to always show\" and \"sequences to never show\", a\n",
      "preference to only show sequences that occur in more than one folder\n",
      "would be useful, and then have the sequences that occor only in the\n",
      "folder I'm visiting appear in the list when that folder is current.\n",
      "This is just to keep the list size somewhat manageable while remaining\n",
      "productive (I quite often use a sequence to remember a particular message\n",
      "in a folder - the name is used only there, and only for one message,\n",
      "it gives me a handle on the message which remains as the folder is\n",
      "packed, sorted, etc).\n",
      "\n",
      "I haven't updated my exmh for some time now, so I'm not sure if this\n",
      "next one is new, or just new since 2.5, but the Sequences menu (on the\n",
      "bar with New Flist Search ...) only contains \"unseen\" and \"urgent\".\n",
      "It would be useful if it contained all of the sequences that the folder\n",
      "happens to have defined.   A \"New sequence\" entry would also be useful\n",
      "(to mark the message with a sequence name that didn't previously exist,\n",
      "which can be done now using \"Search\" and the pick interface, but is\n",
      "clumsy that way)\n",
      "\n",
      "Actually, you once could, now when I try this, entering a sequence name\n",
      "in the pick box, and a single message number, or a range N-N in the\n",
      "list of messages, and no pick attributes at all, I now get ...\n",
      "\n",
      "syntax error in expression \"int(1+1+(1 hit-1)*(3868-1-2)/(4878-1))\"\n",
      "    while executing\n",
      "\"expr int($minlineno+1+($msgid-$minmsgid)*($maxlineno-$minlineno-2)/($maxmsgid-$minmsgid))\"\n",
      "    (procedure \"Ftoc_FindMsg\" line 46)\n",
      "    invoked from within\n",
      "\"Ftoc_FindMsg $msg\"\n",
      "    (procedure \"Ftoc_FindMsgs\" line 5)\n",
      "    invoked from within\n",
      "\"Ftoc_FindMsgs $msgids\"\n",
      "    (procedure \"Ftoc_PickMsgs\" line 5)\n",
      "    invoked from within\n",
      "\"Ftoc_PickMsgs $pick(ids) $pick(addtosel)\"\n",
      "    (procedure \"PickInner\" line 13)\n",
      "    invoked from within\n",
      "\"PickInner {exec pick +inbox -list} {4852 -sequence mercury}\"\n",
      "    (\"uplevel\" body line 1)\n",
      "    invoked from within\n",
      "\"uplevel #0 $cmd\"\n",
      "    (procedure \"busyCursorInner\" line 8)\n",
      "    invoked from within\n",
      "\"busyCursorInner $cmd $widgets\"\n",
      "    (procedure \"busyCursorHack\" line 32)\n",
      "    invoked from within\n",
      "\"busyCursorHack $args\"\n",
      "    (\"cursor\" arm line 1)\n",
      "    invoked from within\n",
      "\"switch $busy(style) {\n",
      "\ticon\t\t{busyIcon $args}\n",
      "\tcursorAll\t{busyCursor $args}\n",
      "\tcursor\t\t{busyCursorHack $args}\n",
      "\tdefault\t\t{eval $args}\n",
      "    }\"\n",
      "    (procedure \"busy\" line 3)\n",
      "    invoked from within\n",
      "\"busy PickInner $cmd $msgs\"\n",
      "    (procedure \"Pick_It\" line 51)\n",
      "    invoked from within\n",
      "\"Pick_It\"\n",
      "    invoked from within\n",
      "\".pick.but.pick invoke\"\n",
      "    (\"uplevel\" body line 1)\n",
      "    invoked from within\n",
      "\"uplevel #0 [list $w invoke]\"\n",
      "    (procedure \"tkButtonUp\" line 7)\n",
      "    invoked from within\n",
      "\"tkButtonUp .pick.but.pick\n",
      "\"\n",
      "    (command bound to event)\n",
      "\n",
      "It has been ages since I did this last though.   I tried adding a Subject\n",
      "to pick on (easy as I know what's in the message...) which made no difference.\n",
      "Looks as if something is now saying \"1 hit\" when before it didn't, or\n",
      "similar.\n",
      "\n",
      "  | I've also changed the ftoc colorization as discussed briefly on the list a \n",
      "  | week or so ago.\n",
      "\n",
      "Any chance of making the current message a little brighter background?\n",
      "Just to make it stand out a fraction more than it does (maybe this is\n",
      "more apparent to me than many, as I use very small fonts everywhere,\n",
      "the background of the ftoc line isn't very wide).\n",
      "\n",
      "Hope this helps.\n",
      "\n",
      "kre\n",
      "\n",
      "\n",
      "\n",
      "_______________________________________________\n",
      "Exmh-workers mailing list\n",
      "Exmh-workers@redhat.com\n",
      "https://listman.redhat.com/mailman/listinfo/exmh-workers\n"
     ]
    }
   ],
   "source": [
    "# we can see that beautiful soup has done a pretty good job of stripping out all the html, \n",
    "# but there's still noise in the text\n",
    "print(raw_text)"
   ]
  },
  {
   "cell_type": "code",
   "execution_count": 7,
   "metadata": {},
   "outputs": [
    {
     "name": "stdout",
     "output_type": "stream",
     "text": [
      "['date', 'tue', 'aug', 'chri', 'hope', 'peopl', 'addit', 'sequenc', 'notic', 'pure', 'cosmet', 'chang', 'well', 'first', 'exmh', 'latest', 'one', 'chang', 'start', 'get', 'ca', 'read', 'flist', 'totalcount', 'unseen', 'element', 'array', 'execut', 'flist', 'totalcount', 'mhprofil', 'flaginn', 'spool', 'iconspool', 'labelup', 'els', 'flaginn', 'icondown', 'labeldown', 'procedur', 'line', 'invok', 'within', 'procedur', 'msgseen', 'line', 'invok', 'within', 'msgseen', 'msgid', 'procedur', 'msgshow', 'line', 'invok', 'within', 'msgshow', 'msgid', 'procedur', 'msgchang', 'line', 'invok', 'within', 'msgchang', 'show', 'invok', 'within', 'time', 'list', 'msgchang', 'msgid', 'show', 'procedur', 'line', 'invok', 'within', 'msg', 'id', 'show', 'procedur', 'line', 'invok', 'within', 'cur', 'eval', 'bodi', 'line', 'invok', 'within', 'eval', 'msgshowproc', 'procedur', 'folderchang', 'line', 'invok', 'within', 'folderchang', 'inbox', 'cur', 'invok', 'within']\n"
     ]
    }
   ],
   "source": [
    "from nltk.stem.porter import PorterStemmer\n",
    "import nltk\n",
    "\n",
    "tokens = nltk.word_tokenize(raw_text)\n",
    "\n",
    "# lower case\n",
    "tokens = [w.lower() for w in tokens]\n",
    "# strip non alphabetical tokens\n",
    "tokens = [w for w in tokens if w.isalpha()]\n",
    "# remove stopwords\n",
    "from nltk.corpus import stopwords\n",
    "tokens = [w for w in tokens if not w in stopwords.words('english')]\n",
    "\n",
    "# stem the tokens to remove plurals etc.\n",
    "porter = PorterStemmer()\n",
    "stemmed = [porter.stem(word) for word in tokens]\n",
    "# this looks like a pretty good start for a clean set of words from an email\n",
    "print(stemmed[:100])"
   ]
  },
  {
   "cell_type": "markdown",
   "metadata": {},
   "source": [
    "At this point we have a reasonably good technique to take an email and extract the content from it. We can try to build a pipeline to process all the emails."
   ]
  },
  {
   "cell_type": "code",
   "execution_count": 8,
   "metadata": {},
   "outputs": [
    {
     "name": "stdout",
     "output_type": "stream",
     "text": [
      "00249.5f45607c1bffe89f60ba1ec9f878039a\n",
      "00373.ebe8670ac56b04125c25100a36ab0510\n",
      "00214.1367039e50dc6b7adb0f2aa8aba83216\n",
      "00210.050ffd105bd4e006771ee63cabc59978\n",
      "00033.9babb58d9298daa2963d4f514193d7d6\n"
     ]
    }
   ],
   "source": [
    "# first we need to get the list of all possible words from all emails\n",
    "# lets start by listing all emails\n",
    "import os\n",
    "\n",
    "spam_dirs = [ 'spam', 'spam_2']\n",
    "ham_dirs = [ 'easy_ham', 'easy_ham_2', 'hard_ham']\n",
    "\n",
    "# let's see first 5 files in the first spam dir\n",
    "for file in os.listdir(LOCAL_DATA_DIR + '/' + spam_dirs[0])[:5]:\n",
    "    print(file)"
   ]
  },
  {
   "cell_type": "code",
   "execution_count": 9,
   "metadata": {},
   "outputs": [],
   "source": [
    "def flatten(lists):\n",
    "    return [j for i in lists for j in i]"
   ]
  },
  {
   "cell_type": "code",
   "execution_count": 10,
   "metadata": {},
   "outputs": [],
   "source": [
    "def email_to_text(email):\n",
    "    raw_text = None\n",
    "    for part in email.walk():\n",
    "        ctype = part.get_content_type()\n",
    "        if not ctype in (\"text/plain\", \"text/html\"):\n",
    "            continue\n",
    "        try:\n",
    "            raw_text = part.get_content()\n",
    "        except: # in case of encoding issues\n",
    "            raw_text = str(part.get_payload())\n",
    "\n",
    "    \n",
    "    return raw_text if raw_text is not None else \"\""
   ]
  },
  {
   "cell_type": "code",
   "execution_count": 11,
   "metadata": {},
   "outputs": [],
   "source": [
    "import email\n",
    "import email.policy\n",
    "\n",
    "def load_email(directory):\n",
    "    emails = []\n",
    "    for filename in os.listdir(LOCAL_DATA_DIR + '/' + directory):\n",
    "        with open(os.path.join(LOCAL_DATA_DIR, directory, filename), \"rb\") as f:\n",
    "            parsed_email = email.parser.BytesParser(policy=email.policy.default).parse(f)\n",
    "            emails.append({\n",
    "                'email': parsed_email,\n",
    "                'text_content': email_to_text(parsed_email),\n",
    "                'filename': filename,\n",
    "                'directory': directory\n",
    "            })\n",
    "    return emails\n",
    "    \n",
    "ham_emails = flatten([load_email(directory) for directory in ham_dirs])\n",
    "spam_emails = flatten([load_email(directory) for directory in spam_dirs])"
   ]
  },
  {
   "cell_type": "code",
   "execution_count": 12,
   "metadata": {},
   "outputs": [
    {
     "name": "stdout",
     "output_type": "stream",
     "text": [
      "1898\n",
      "4153\n"
     ]
    }
   ],
   "source": [
    "print(len(spam_emails))\n",
    "print(len(ham_emails))"
   ]
  },
  {
   "cell_type": "code",
   "execution_count": 13,
   "metadata": {},
   "outputs": [],
   "source": [
    "# get all emails into dataframe\n",
    "emails = []\n",
    "\n",
    "import pandas as pd\n",
    "\n",
    "spam_emails_df = pd.DataFrame.from_dict(spam_emails)\n",
    "spam_emails_df['is_spam'] = True\n",
    "ham_emails_df = pd.DataFrame.from_dict(ham_emails)\n",
    "ham_emails_df['is_spam'] = False\n",
    "all_emails_df = spam_emails_df.append(ham_emails_df)\n",
    "all_emails_df = all_emails_df.reset_index(drop=True)"
   ]
  },
  {
   "cell_type": "code",
   "execution_count": 14,
   "metadata": {},
   "outputs": [
    {
     "data": {
      "text/html": [
       "<div>\n",
       "<table border=\"1\" class=\"dataframe\">\n",
       "  <thead>\n",
       "    <tr style=\"text-align: right;\">\n",
       "      <th></th>\n",
       "      <th>directory</th>\n",
       "      <th>email</th>\n",
       "      <th>filename</th>\n",
       "      <th>text_content</th>\n",
       "      <th>is_spam</th>\n",
       "    </tr>\n",
       "  </thead>\n",
       "  <tbody>\n",
       "    <tr>\n",
       "      <th>0</th>\n",
       "      <td>spam</td>\n",
       "      <td>[Return-Path, Delivered-To, Received, Received...</td>\n",
       "      <td>00249.5f45607c1bffe89f60ba1ec9f878039a</td>\n",
       "      <td>Dear Homeowner,\\n \\nInterest Rates are at thei...</td>\n",
       "      <td>True</td>\n",
       "    </tr>\n",
       "    <tr>\n",
       "      <th>1</th>\n",
       "      <td>spam</td>\n",
       "      <td>[Return-Path, Delivered-To, Received, Received...</td>\n",
       "      <td>00373.ebe8670ac56b04125c25100a36ab0510</td>\n",
       "      <td>ATTENTION: This is a MUST for ALL Computer Use...</td>\n",
       "      <td>True</td>\n",
       "    </tr>\n",
       "    <tr>\n",
       "      <th>2</th>\n",
       "      <td>spam</td>\n",
       "      <td>[Return-Path, Delivered-To, Received, Received...</td>\n",
       "      <td>00214.1367039e50dc6b7adb0f2aa8aba83216</td>\n",
       "      <td>&lt;html&gt;\\n&lt;head&gt;\\n&lt;title&gt;We Dare You to Find a B...</td>\n",
       "      <td>True</td>\n",
       "    </tr>\n",
       "    <tr>\n",
       "      <th>3</th>\n",
       "      <td>spam</td>\n",
       "      <td>[Return-Path, Delivered-To, Received, Received...</td>\n",
       "      <td>00210.050ffd105bd4e006771ee63cabc59978</td>\n",
       "      <td>IMPORTANT INFORMATION:\\n\\nThe new domain names...</td>\n",
       "      <td>True</td>\n",
       "    </tr>\n",
       "    <tr>\n",
       "      <th>4</th>\n",
       "      <td>spam</td>\n",
       "      <td>[Return-Path, Delivered-To, Received, Received...</td>\n",
       "      <td>00033.9babb58d9298daa2963d4f514193d7d6</td>\n",
       "      <td>This is the bottom line.  If you can GIVE AWAY...</td>\n",
       "      <td>True</td>\n",
       "    </tr>\n",
       "  </tbody>\n",
       "</table>\n",
       "</div>"
      ],
      "text/plain": [
       "  directory                                              email  \\\n",
       "0      spam  [Return-Path, Delivered-To, Received, Received...   \n",
       "1      spam  [Return-Path, Delivered-To, Received, Received...   \n",
       "2      spam  [Return-Path, Delivered-To, Received, Received...   \n",
       "3      spam  [Return-Path, Delivered-To, Received, Received...   \n",
       "4      spam  [Return-Path, Delivered-To, Received, Received...   \n",
       "\n",
       "                                 filename  \\\n",
       "0  00249.5f45607c1bffe89f60ba1ec9f878039a   \n",
       "1  00373.ebe8670ac56b04125c25100a36ab0510   \n",
       "2  00214.1367039e50dc6b7adb0f2aa8aba83216   \n",
       "3  00210.050ffd105bd4e006771ee63cabc59978   \n",
       "4  00033.9babb58d9298daa2963d4f514193d7d6   \n",
       "\n",
       "                                        text_content is_spam  \n",
       "0  Dear Homeowner,\\n \\nInterest Rates are at thei...    True  \n",
       "1  ATTENTION: This is a MUST for ALL Computer Use...    True  \n",
       "2  <html>\\n<head>\\n<title>We Dare You to Find a B...    True  \n",
       "3  IMPORTANT INFORMATION:\\n\\nThe new domain names...    True  \n",
       "4  This is the bottom line.  If you can GIVE AWAY...    True  "
      ]
     },
     "execution_count": 14,
     "metadata": {},
     "output_type": "execute_result"
    }
   ],
   "source": [
    "spam_emails_df.head()"
   ]
  },
  {
   "cell_type": "code",
   "execution_count": 15,
   "metadata": {},
   "outputs": [
    {
     "data": {
      "text/html": [
       "<div>\n",
       "<table border=\"1\" class=\"dataframe\">\n",
       "  <thead>\n",
       "    <tr style=\"text-align: right;\">\n",
       "      <th></th>\n",
       "      <th>directory</th>\n",
       "      <th>email</th>\n",
       "      <th>filename</th>\n",
       "      <th>text_content</th>\n",
       "      <th>is_spam</th>\n",
       "    </tr>\n",
       "  </thead>\n",
       "  <tbody>\n",
       "    <tr>\n",
       "      <th>0</th>\n",
       "      <td>easy_ham</td>\n",
       "      <td>[Return-Path, Delivered-To, Received, Received...</td>\n",
       "      <td>00769.25bf9a767b5db0ed93f03c1637281663</td>\n",
       "      <td>\\nIn a message dated 9/24/2002 11:24:58 AM, ja...</td>\n",
       "      <td>False</td>\n",
       "    </tr>\n",
       "    <tr>\n",
       "      <th>1</th>\n",
       "      <td>easy_ham</td>\n",
       "      <td>[Return-Path, Delivered-To, Received, Received...</td>\n",
       "      <td>01074.8590d61ac0aeeadb58dc2f2ba776c406</td>\n",
       "      <td>Hiya, I always seem to get errors when I do an...</td>\n",
       "      <td>False</td>\n",
       "    </tr>\n",
       "    <tr>\n",
       "      <th>2</th>\n",
       "      <td>easy_ham</td>\n",
       "      <td>[Return-Path, Delivered-To, Received, Received...</td>\n",
       "      <td>02479.14365bcad3a60fcf24c5c1813f6291fb</td>\n",
       "      <td>\\nI don't know how one can expect better and m...</td>\n",
       "      <td>False</td>\n",
       "    </tr>\n",
       "    <tr>\n",
       "      <th>3</th>\n",
       "      <td>easy_ham</td>\n",
       "      <td>[Return-Path, Delivery-Date, From, Date, Subje...</td>\n",
       "      <td>01417.ce7b07a2114218dbac682b599785820d</td>\n",
       "      <td>Tim Peters wrote:\\n&gt; I've run no experiments o...</td>\n",
       "      <td>False</td>\n",
       "    </tr>\n",
       "    <tr>\n",
       "      <th>4</th>\n",
       "      <td>easy_ham</td>\n",
       "      <td>[Return-Path, Delivered-To, Received, Received...</td>\n",
       "      <td>00357.d559b71616f64ba1d1c1e61a03644fd4</td>\n",
       "      <td>At 10:34 AM -0700 on 8/28/02, Jim Whitehead wr...</td>\n",
       "      <td>False</td>\n",
       "    </tr>\n",
       "  </tbody>\n",
       "</table>\n",
       "</div>"
      ],
      "text/plain": [
       "  directory                                              email  \\\n",
       "0  easy_ham  [Return-Path, Delivered-To, Received, Received...   \n",
       "1  easy_ham  [Return-Path, Delivered-To, Received, Received...   \n",
       "2  easy_ham  [Return-Path, Delivered-To, Received, Received...   \n",
       "3  easy_ham  [Return-Path, Delivery-Date, From, Date, Subje...   \n",
       "4  easy_ham  [Return-Path, Delivered-To, Received, Received...   \n",
       "\n",
       "                                 filename  \\\n",
       "0  00769.25bf9a767b5db0ed93f03c1637281663   \n",
       "1  01074.8590d61ac0aeeadb58dc2f2ba776c406   \n",
       "2  02479.14365bcad3a60fcf24c5c1813f6291fb   \n",
       "3  01417.ce7b07a2114218dbac682b599785820d   \n",
       "4  00357.d559b71616f64ba1d1c1e61a03644fd4   \n",
       "\n",
       "                                        text_content is_spam  \n",
       "0  \\nIn a message dated 9/24/2002 11:24:58 AM, ja...   False  \n",
       "1  Hiya, I always seem to get errors when I do an...   False  \n",
       "2  \\nI don't know how one can expect better and m...   False  \n",
       "3  Tim Peters wrote:\\n> I've run no experiments o...   False  \n",
       "4  At 10:34 AM -0700 on 8/28/02, Jim Whitehead wr...   False  "
      ]
     },
     "execution_count": 15,
     "metadata": {},
     "output_type": "execute_result"
    }
   ],
   "source": [
    "ham_emails_df.head()"
   ]
  },
  {
   "cell_type": "code",
   "execution_count": 16,
   "metadata": {},
   "outputs": [
    {
     "name": "stdout",
     "output_type": "stream",
     "text": [
      "(4153, 5)\n",
      "(1898, 5)\n",
      "(6051, 5)\n"
     ]
    }
   ],
   "source": [
    "print(ham_emails_df.shape)\n",
    "print(spam_emails_df.shape)\n",
    "print(all_emails_df.shape)"
   ]
  },
  {
   "cell_type": "code",
   "execution_count": 17,
   "metadata": {},
   "outputs": [
    {
     "data": {
      "text/html": [
       "<div>\n",
       "<table border=\"1\" class=\"dataframe\">\n",
       "  <thead>\n",
       "    <tr style=\"text-align: right;\">\n",
       "      <th></th>\n",
       "      <th>directory</th>\n",
       "      <th>email</th>\n",
       "      <th>filename</th>\n",
       "      <th>text_content</th>\n",
       "      <th>is_spam</th>\n",
       "    </tr>\n",
       "  </thead>\n",
       "  <tbody>\n",
       "    <tr>\n",
       "      <th>0</th>\n",
       "      <td>spam</td>\n",
       "      <td>[Return-Path, Delivered-To, Received, Received...</td>\n",
       "      <td>00249.5f45607c1bffe89f60ba1ec9f878039a</td>\n",
       "      <td>Dear Homeowner,\\n \\nInterest Rates are at thei...</td>\n",
       "      <td>True</td>\n",
       "    </tr>\n",
       "    <tr>\n",
       "      <th>1</th>\n",
       "      <td>spam</td>\n",
       "      <td>[Return-Path, Delivered-To, Received, Received...</td>\n",
       "      <td>00373.ebe8670ac56b04125c25100a36ab0510</td>\n",
       "      <td>ATTENTION: This is a MUST for ALL Computer Use...</td>\n",
       "      <td>True</td>\n",
       "    </tr>\n",
       "    <tr>\n",
       "      <th>2</th>\n",
       "      <td>spam</td>\n",
       "      <td>[Return-Path, Delivered-To, Received, Received...</td>\n",
       "      <td>00214.1367039e50dc6b7adb0f2aa8aba83216</td>\n",
       "      <td>&lt;html&gt;\\n&lt;head&gt;\\n&lt;title&gt;We Dare You to Find a B...</td>\n",
       "      <td>True</td>\n",
       "    </tr>\n",
       "    <tr>\n",
       "      <th>3</th>\n",
       "      <td>spam</td>\n",
       "      <td>[Return-Path, Delivered-To, Received, Received...</td>\n",
       "      <td>00210.050ffd105bd4e006771ee63cabc59978</td>\n",
       "      <td>IMPORTANT INFORMATION:\\n\\nThe new domain names...</td>\n",
       "      <td>True</td>\n",
       "    </tr>\n",
       "    <tr>\n",
       "      <th>4</th>\n",
       "      <td>spam</td>\n",
       "      <td>[Return-Path, Delivered-To, Received, Received...</td>\n",
       "      <td>00033.9babb58d9298daa2963d4f514193d7d6</td>\n",
       "      <td>This is the bottom line.  If you can GIVE AWAY...</td>\n",
       "      <td>True</td>\n",
       "    </tr>\n",
       "  </tbody>\n",
       "</table>\n",
       "</div>"
      ],
      "text/plain": [
       "  directory                                              email  \\\n",
       "0      spam  [Return-Path, Delivered-To, Received, Received...   \n",
       "1      spam  [Return-Path, Delivered-To, Received, Received...   \n",
       "2      spam  [Return-Path, Delivered-To, Received, Received...   \n",
       "3      spam  [Return-Path, Delivered-To, Received, Received...   \n",
       "4      spam  [Return-Path, Delivered-To, Received, Received...   \n",
       "\n",
       "                                 filename  \\\n",
       "0  00249.5f45607c1bffe89f60ba1ec9f878039a   \n",
       "1  00373.ebe8670ac56b04125c25100a36ab0510   \n",
       "2  00214.1367039e50dc6b7adb0f2aa8aba83216   \n",
       "3  00210.050ffd105bd4e006771ee63cabc59978   \n",
       "4  00033.9babb58d9298daa2963d4f514193d7d6   \n",
       "\n",
       "                                        text_content is_spam  \n",
       "0  Dear Homeowner,\\n \\nInterest Rates are at thei...    True  \n",
       "1  ATTENTION: This is a MUST for ALL Computer Use...    True  \n",
       "2  <html>\\n<head>\\n<title>We Dare You to Find a B...    True  \n",
       "3  IMPORTANT INFORMATION:\\n\\nThe new domain names...    True  \n",
       "4  This is the bottom line.  If you can GIVE AWAY...    True  "
      ]
     },
     "execution_count": 17,
     "metadata": {},
     "output_type": "execute_result"
    }
   ],
   "source": [
    "all_emails_df.head()"
   ]
  },
  {
   "cell_type": "code",
   "execution_count": 18,
   "metadata": {},
   "outputs": [
    {
     "data": {
      "text/html": [
       "<div>\n",
       "<table border=\"1\" class=\"dataframe\">\n",
       "  <thead>\n",
       "    <tr style=\"text-align: right;\">\n",
       "      <th></th>\n",
       "      <th>directory</th>\n",
       "      <th>email</th>\n",
       "      <th>filename</th>\n",
       "      <th>text_content</th>\n",
       "      <th>is_spam</th>\n",
       "    </tr>\n",
       "  </thead>\n",
       "  <tbody>\n",
       "    <tr>\n",
       "      <th>6046</th>\n",
       "      <td>hard_ham</td>\n",
       "      <td>[Return-Path, Received, Received, Message-ID, ...</td>\n",
       "      <td>00022.66e4bce429ab25c5d2c7e8a1a38838a0</td>\n",
       "      <td>&lt;html&gt;\\n&lt;head&gt;\\n&lt;title&gt;Tech Update Today&lt;/titl...</td>\n",
       "      <td>False</td>\n",
       "    </tr>\n",
       "    <tr>\n",
       "      <th>6047</th>\n",
       "      <td>hard_ham</td>\n",
       "      <td>[Return-Path, Received, Received, Message-ID, ...</td>\n",
       "      <td>00100.78af3dc4c39277a6e1893f287cc2771f</td>\n",
       "      <td>&lt;html&gt;\\n&lt;head&gt;\\n&lt;title&gt;CNET Investor Dispatch&lt;...</td>\n",
       "      <td>False</td>\n",
       "    </tr>\n",
       "    <tr>\n",
       "      <th>6048</th>\n",
       "      <td>hard_ham</td>\n",
       "      <td>[Return-Path, Delivered-To, Received, Received...</td>\n",
       "      <td>00241.4e5262894127344225abfc680c35e3d3</td>\n",
       "      <td>&gt;&gt;From slashdot@slashdot.org Wed Nov 13 01:37:...</td>\n",
       "      <td>False</td>\n",
       "    </tr>\n",
       "    <tr>\n",
       "      <th>6049</th>\n",
       "      <td>hard_ham</td>\n",
       "      <td>[Return-Path, Received, Received, Message-ID, ...</td>\n",
       "      <td>00110.77ac47048cafa2fe2587182f6d6b19d2</td>\n",
       "      <td>&lt;html&gt;\\n&lt;head&gt;\\n&lt;title&gt;Tech Update Today&lt;/titl...</td>\n",
       "      <td>False</td>\n",
       "    </tr>\n",
       "    <tr>\n",
       "      <th>6050</th>\n",
       "      <td>hard_ham</td>\n",
       "      <td>[Return-Path, Received, Received, Message-ID, ...</td>\n",
       "      <td>00025.c27f4dd57c84c01305bd30bdee96810b</td>\n",
       "      <td>\\n&lt;html&gt;\\n&lt;head&gt;\\n\\t&lt;title&gt;CNET Shopper Newsle...</td>\n",
       "      <td>False</td>\n",
       "    </tr>\n",
       "  </tbody>\n",
       "</table>\n",
       "</div>"
      ],
      "text/plain": [
       "     directory                                              email  \\\n",
       "6046  hard_ham  [Return-Path, Received, Received, Message-ID, ...   \n",
       "6047  hard_ham  [Return-Path, Received, Received, Message-ID, ...   \n",
       "6048  hard_ham  [Return-Path, Delivered-To, Received, Received...   \n",
       "6049  hard_ham  [Return-Path, Received, Received, Message-ID, ...   \n",
       "6050  hard_ham  [Return-Path, Received, Received, Message-ID, ...   \n",
       "\n",
       "                                    filename  \\\n",
       "6046  00022.66e4bce429ab25c5d2c7e8a1a38838a0   \n",
       "6047  00100.78af3dc4c39277a6e1893f287cc2771f   \n",
       "6048  00241.4e5262894127344225abfc680c35e3d3   \n",
       "6049  00110.77ac47048cafa2fe2587182f6d6b19d2   \n",
       "6050  00025.c27f4dd57c84c01305bd30bdee96810b   \n",
       "\n",
       "                                           text_content is_spam  \n",
       "6046  <html>\\n<head>\\n<title>Tech Update Today</titl...   False  \n",
       "6047  <html>\\n<head>\\n<title>CNET Investor Dispatch<...   False  \n",
       "6048  >>From slashdot@slashdot.org Wed Nov 13 01:37:...   False  \n",
       "6049  <html>\\n<head>\\n<title>Tech Update Today</titl...   False  \n",
       "6050  \\n<html>\\n<head>\\n\\t<title>CNET Shopper Newsle...   False  "
      ]
     },
     "execution_count": 18,
     "metadata": {},
     "output_type": "execute_result"
    }
   ],
   "source": [
    "all_emails_df.tail()"
   ]
  },
  {
   "cell_type": "code",
   "execution_count": 19,
   "metadata": {},
   "outputs": [],
   "source": [
    "# we need to split the data into training/test. let's stratify based on the label\n",
    "from sklearn.model_selection import StratifiedShuffleSplit\n",
    "\n",
    "split = StratifiedShuffleSplit(n_splits=1, test_size=0.2, random_state=42)\n",
    "for train_index, test_index in split.split(all_emails_df, all_emails_df[\"directory\"]):\n",
    "    # we're iterating over all splits, but because n_splits=1 we only have 1 really\n",
    "    strat_train_set = all_emails_df.loc[train_index]\n",
    "    strat_test_set = all_emails_df.loc[test_index]"
   ]
  },
  {
   "cell_type": "code",
   "execution_count": 20,
   "metadata": {},
   "outputs": [
    {
     "name": "stdout",
     "output_type": "stream",
     "text": [
      "(4840, 5)\n",
      "(1211, 5)\n"
     ]
    }
   ],
   "source": [
    "print(strat_train_set.shape)\n",
    "print(strat_test_set.shape)\n",
    "# let's compare distribution of spam/ham across both sets"
   ]
  },
  {
   "cell_type": "code",
   "execution_count": 21,
   "metadata": {},
   "outputs": [
    {
     "data": {
      "text/plain": [
       "easy_ham      0.413223\n",
       "easy_ham_2    0.231612\n",
       "spam_2        0.230785\n",
       "spam          0.082851\n",
       "hard_ham      0.041529\n",
       "Name: directory, dtype: float64"
      ]
     },
     "execution_count": 21,
     "metadata": {},
     "output_type": "execute_result"
    }
   ],
   "source": [
    "strat_train_set[\"directory\"].value_counts() / len(strat_train_set)"
   ]
  },
  {
   "cell_type": "code",
   "execution_count": 22,
   "metadata": {
    "scrolled": true
   },
   "outputs": [
    {
     "data": {
      "text/plain": [
       "easy_ham      0.413708\n",
       "spam_2        0.231214\n",
       "easy_ham_2    0.231214\n",
       "spam          0.082576\n",
       "hard_ham      0.041288\n",
       "Name: directory, dtype: float64"
      ]
     },
     "execution_count": 22,
     "metadata": {},
     "output_type": "execute_result"
    }
   ],
   "source": [
    "strat_test_set[\"directory\"].value_counts() / len(strat_test_set)"
   ]
  },
  {
   "cell_type": "markdown",
   "metadata": {},
   "source": [
    "nearly identical distributions of spam and ham in the training/test sets. huzzah!"
   ]
  },
  {
   "cell_type": "code",
   "execution_count": 23,
   "metadata": {
    "scrolled": true
   },
   "outputs": [
    {
     "data": {
      "text/html": [
       "<div>\n",
       "<table border=\"1\" class=\"dataframe\">\n",
       "  <thead>\n",
       "    <tr style=\"text-align: right;\">\n",
       "      <th></th>\n",
       "      <th>directory</th>\n",
       "      <th>email</th>\n",
       "      <th>filename</th>\n",
       "      <th>text_content</th>\n",
       "      <th>is_spam</th>\n",
       "    </tr>\n",
       "  </thead>\n",
       "  <tbody>\n",
       "    <tr>\n",
       "      <th>65</th>\n",
       "      <td>spam</td>\n",
       "      <td>[Return-Path, Delivered-To, Received, Received...</td>\n",
       "      <td>00441.77768298934252b2fa200e7d9482993b</td>\n",
       "      <td>&lt;html&gt;\\n&lt;body&gt;\\n&lt;p align=\"center\"&gt;&lt;a href=\"htt...</td>\n",
       "      <td>True</td>\n",
       "    </tr>\n",
       "    <tr>\n",
       "      <th>5779</th>\n",
       "      <td>easy_ham_2</td>\n",
       "      <td>[Return-Path, Delivered-To, Received, Received...</td>\n",
       "      <td>00272.d2daf940e50638774ca629aa11ab95a2</td>\n",
       "      <td>Hi,\\n\\nMatthew French:\\n&gt; Declan Houlihan ment...</td>\n",
       "      <td>False</td>\n",
       "    </tr>\n",
       "    <tr>\n",
       "      <th>241</th>\n",
       "      <td>spam</td>\n",
       "      <td>[Return-Path, Delivered-To, Received, Received...</td>\n",
       "      <td>00019.bbc97ad616ffd06e93ce0f821ca8c381</td>\n",
       "      <td>Lowest rates available for term life insurance...</td>\n",
       "      <td>True</td>\n",
       "    </tr>\n",
       "    <tr>\n",
       "      <th>2654</th>\n",
       "      <td>easy_ham</td>\n",
       "      <td>[Return-Path, Delivered-To, Received, Received...</td>\n",
       "      <td>01763.33f1ae2bd826fe0fcee7fa711e6658a0</td>\n",
       "      <td>\\nForwarded-by: Rob Windsor &lt;windsor@warthog.c...</td>\n",
       "      <td>False</td>\n",
       "    </tr>\n",
       "    <tr>\n",
       "      <th>1515</th>\n",
       "      <td>spam_2</td>\n",
       "      <td>[Return-Path, Delivered-To, Received, Received...</td>\n",
       "      <td>00905.8dcb590481d3e3c04d03506100c59497</td>\n",
       "      <td>\\n\\n&lt;HTML&gt;\\n&lt;HEAD&gt;\\n&lt;TITLE&gt;Cards In Advance&lt;/T...</td>\n",
       "      <td>True</td>\n",
       "    </tr>\n",
       "    <tr>\n",
       "      <th>5255</th>\n",
       "      <td>easy_ham_2</td>\n",
       "      <td>[Return-Path, Delivered-To, Received, Received...</td>\n",
       "      <td>00417.baf263143d4cfd55e4586e56f1820cd5</td>\n",
       "      <td>Hi guys,\\n   slightly OT. This comes from The ...</td>\n",
       "      <td>False</td>\n",
       "    </tr>\n",
       "    <tr>\n",
       "      <th>4256</th>\n",
       "      <td>easy_ham</td>\n",
       "      <td>[Return-Path, Delivered-To, Received, Received...</td>\n",
       "      <td>00743.1ee0d64b26edd4ab988d5b848232f554</td>\n",
       "      <td>\\nRare Virgin Shark Births Reported in Detroit...</td>\n",
       "      <td>False</td>\n",
       "    </tr>\n",
       "    <tr>\n",
       "      <th>760</th>\n",
       "      <td>spam_2</td>\n",
       "      <td>[Return-Path, Delivery-Date, Received, Receive...</td>\n",
       "      <td>00535.6f0720362e104f169c08308d82a8c804</td>\n",
       "      <td>Fighting a Traffic Ticket?  Going through a Di...</td>\n",
       "      <td>True</td>\n",
       "    </tr>\n",
       "    <tr>\n",
       "      <th>3091</th>\n",
       "      <td>easy_ham</td>\n",
       "      <td>[Return-Path, Delivery-Date, From, Date, Subje...</td>\n",
       "      <td>01739.f57fcc3356b4c910af8ac2ce06d7301c</td>\n",
       "      <td>\\n    Guido&gt; Why would we care about installin...</td>\n",
       "      <td>False</td>\n",
       "    </tr>\n",
       "    <tr>\n",
       "      <th>1080</th>\n",
       "      <td>spam_2</td>\n",
       "      <td>[Return-Path, Delivered-To, Received, Received...</td>\n",
       "      <td>01176.36afa20e4f8dd2246da63c3b23129305</td>\n",
       "      <td>Below is the result of your feedback form.  It...</td>\n",
       "      <td>True</td>\n",
       "    </tr>\n",
       "  </tbody>\n",
       "</table>\n",
       "</div>"
      ],
      "text/plain": [
       "       directory                                              email  \\\n",
       "65          spam  [Return-Path, Delivered-To, Received, Received...   \n",
       "5779  easy_ham_2  [Return-Path, Delivered-To, Received, Received...   \n",
       "241         spam  [Return-Path, Delivered-To, Received, Received...   \n",
       "2654    easy_ham  [Return-Path, Delivered-To, Received, Received...   \n",
       "1515      spam_2  [Return-Path, Delivered-To, Received, Received...   \n",
       "5255  easy_ham_2  [Return-Path, Delivered-To, Received, Received...   \n",
       "4256    easy_ham  [Return-Path, Delivered-To, Received, Received...   \n",
       "760       spam_2  [Return-Path, Delivery-Date, Received, Receive...   \n",
       "3091    easy_ham  [Return-Path, Delivery-Date, From, Date, Subje...   \n",
       "1080      spam_2  [Return-Path, Delivered-To, Received, Received...   \n",
       "\n",
       "                                    filename  \\\n",
       "65    00441.77768298934252b2fa200e7d9482993b   \n",
       "5779  00272.d2daf940e50638774ca629aa11ab95a2   \n",
       "241   00019.bbc97ad616ffd06e93ce0f821ca8c381   \n",
       "2654  01763.33f1ae2bd826fe0fcee7fa711e6658a0   \n",
       "1515  00905.8dcb590481d3e3c04d03506100c59497   \n",
       "5255  00417.baf263143d4cfd55e4586e56f1820cd5   \n",
       "4256  00743.1ee0d64b26edd4ab988d5b848232f554   \n",
       "760   00535.6f0720362e104f169c08308d82a8c804   \n",
       "3091  01739.f57fcc3356b4c910af8ac2ce06d7301c   \n",
       "1080  01176.36afa20e4f8dd2246da63c3b23129305   \n",
       "\n",
       "                                           text_content is_spam  \n",
       "65    <html>\\n<body>\\n<p align=\"center\"><a href=\"htt...    True  \n",
       "5779  Hi,\\n\\nMatthew French:\\n> Declan Houlihan ment...   False  \n",
       "241   Lowest rates available for term life insurance...    True  \n",
       "2654  \\nForwarded-by: Rob Windsor <windsor@warthog.c...   False  \n",
       "1515  \\n\\n<HTML>\\n<HEAD>\\n<TITLE>Cards In Advance</T...    True  \n",
       "5255  Hi guys,\\n   slightly OT. This comes from The ...   False  \n",
       "4256  \\nRare Virgin Shark Births Reported in Detroit...   False  \n",
       "760   Fighting a Traffic Ticket?  Going through a Di...    True  \n",
       "3091  \\n    Guido> Why would we care about installin...   False  \n",
       "1080  Below is the result of your feedback form.  It...    True  "
      ]
     },
     "execution_count": 23,
     "metadata": {},
     "output_type": "execute_result"
    }
   ],
   "source": [
    "# lets make sure our training and test data looks reasonable\n",
    "strat_train_set.head(10)"
   ]
  },
  {
   "cell_type": "code",
   "execution_count": 24,
   "metadata": {},
   "outputs": [
    {
     "data": {
      "text/html": [
       "<div>\n",
       "<table border=\"1\" class=\"dataframe\">\n",
       "  <thead>\n",
       "    <tr style=\"text-align: right;\">\n",
       "      <th></th>\n",
       "      <th>directory</th>\n",
       "      <th>email</th>\n",
       "      <th>filename</th>\n",
       "      <th>text_content</th>\n",
       "      <th>is_spam</th>\n",
       "    </tr>\n",
       "  </thead>\n",
       "  <tbody>\n",
       "    <tr>\n",
       "      <th>4337</th>\n",
       "      <td>easy_ham</td>\n",
       "      <td>[Return-Path, Delivered-To, Received, Received...</td>\n",
       "      <td>00116.22aef63fc606e0ad46b5593bc897469a</td>\n",
       "      <td>So, I've been letting the little .exe of SETI@...</td>\n",
       "      <td>False</td>\n",
       "    </tr>\n",
       "    <tr>\n",
       "      <th>1455</th>\n",
       "      <td>spam_2</td>\n",
       "      <td>[Return-Path, Delivery-Date, Received, Receive...</td>\n",
       "      <td>00620.488299bafd542cdfa1a1fb98f00e6441</td>\n",
       "      <td>\\n============================================...</td>\n",
       "      <td>True</td>\n",
       "    </tr>\n",
       "    <tr>\n",
       "      <th>4527</th>\n",
       "      <td>easy_ham_2</td>\n",
       "      <td>[Return-Path, Delivered-To, Received, Received...</td>\n",
       "      <td>00803.6fc0c081e3cda7194e3633ea90d146e5</td>\n",
       "      <td>Someone says,\\n\\n&gt; &gt; Wow. I'm so tempted to ma...</td>\n",
       "      <td>False</td>\n",
       "    </tr>\n",
       "    <tr>\n",
       "      <th>840</th>\n",
       "      <td>spam_2</td>\n",
       "      <td>[Return-Path, Delivered-To, Received, Received...</td>\n",
       "      <td>00236.a46588c69d43e80c618038b95eff2893</td>\n",
       "      <td>Jane,\\n\\nHere is the information you requested...</td>\n",
       "      <td>True</td>\n",
       "    </tr>\n",
       "    <tr>\n",
       "      <th>3797</th>\n",
       "      <td>easy_ham</td>\n",
       "      <td>[Return-Path, Delivered-To, Received, Received...</td>\n",
       "      <td>01195.a22a2504bafda16790a70217d253e770</td>\n",
       "      <td>Peter Peltonen (peter.peltonen@iki.fi) wrote*:...</td>\n",
       "      <td>False</td>\n",
       "    </tr>\n",
       "    <tr>\n",
       "      <th>577</th>\n",
       "      <td>spam_2</td>\n",
       "      <td>[Return-Path, Delivery-Date, Received, Receive...</td>\n",
       "      <td>00605.8a2e83e442d0052a2b2e9cff1ef0793c</td>\n",
       "      <td>Your mortgage has been approved.\\r\\n\\r\\nNow ap...</td>\n",
       "      <td>True</td>\n",
       "    </tr>\n",
       "    <tr>\n",
       "      <th>1425</th>\n",
       "      <td>spam_2</td>\n",
       "      <td>[Return-Path, Delivered-To, Received, Message-...</td>\n",
       "      <td>00133.7dbf2e71621f92eada31cc655ff12fd3</td>\n",
       "      <td>\\n&lt;HTML&gt;\\n&lt;BODY&gt;\\n&lt;!DOCTYPE HTML PUBLIC \"-//W3...</td>\n",
       "      <td>True</td>\n",
       "    </tr>\n",
       "    <tr>\n",
       "      <th>4594</th>\n",
       "      <td>easy_ham_2</td>\n",
       "      <td>[Return-Path, Delivered-To, Received, Received...</td>\n",
       "      <td>01232.8077cd29af0f1eb3a7c1b125375d9a9e</td>\n",
       "      <td>On 14 Aug 2002 10:59:22 -0400, \"Thomas J. Bake...</td>\n",
       "      <td>False</td>\n",
       "    </tr>\n",
       "    <tr>\n",
       "      <th>3671</th>\n",
       "      <td>easy_ham</td>\n",
       "      <td>[Return-Path, Delivered-To, Received, Received...</td>\n",
       "      <td>01770.0e2c720e2d4abac3f8734b9914186f21</td>\n",
       "      <td>use Perl Daily Headline Mailer\\n\\nTwo OSCON Li...</td>\n",
       "      <td>False</td>\n",
       "    </tr>\n",
       "    <tr>\n",
       "      <th>3446</th>\n",
       "      <td>easy_ham</td>\n",
       "      <td>[Return-Path, Delivered-To, Received, Received...</td>\n",
       "      <td>00476.7133902476448f294ee064117d96c988</td>\n",
       "      <td>On Fri, 6 Sep 2002, Jim Whitehead wrote:\\n--]W...</td>\n",
       "      <td>False</td>\n",
       "    </tr>\n",
       "  </tbody>\n",
       "</table>\n",
       "</div>"
      ],
      "text/plain": [
       "       directory                                              email  \\\n",
       "4337    easy_ham  [Return-Path, Delivered-To, Received, Received...   \n",
       "1455      spam_2  [Return-Path, Delivery-Date, Received, Receive...   \n",
       "4527  easy_ham_2  [Return-Path, Delivered-To, Received, Received...   \n",
       "840       spam_2  [Return-Path, Delivered-To, Received, Received...   \n",
       "3797    easy_ham  [Return-Path, Delivered-To, Received, Received...   \n",
       "577       spam_2  [Return-Path, Delivery-Date, Received, Receive...   \n",
       "1425      spam_2  [Return-Path, Delivered-To, Received, Message-...   \n",
       "4594  easy_ham_2  [Return-Path, Delivered-To, Received, Received...   \n",
       "3671    easy_ham  [Return-Path, Delivered-To, Received, Received...   \n",
       "3446    easy_ham  [Return-Path, Delivered-To, Received, Received...   \n",
       "\n",
       "                                    filename  \\\n",
       "4337  00116.22aef63fc606e0ad46b5593bc897469a   \n",
       "1455  00620.488299bafd542cdfa1a1fb98f00e6441   \n",
       "4527  00803.6fc0c081e3cda7194e3633ea90d146e5   \n",
       "840   00236.a46588c69d43e80c618038b95eff2893   \n",
       "3797  01195.a22a2504bafda16790a70217d253e770   \n",
       "577   00605.8a2e83e442d0052a2b2e9cff1ef0793c   \n",
       "1425  00133.7dbf2e71621f92eada31cc655ff12fd3   \n",
       "4594  01232.8077cd29af0f1eb3a7c1b125375d9a9e   \n",
       "3671  01770.0e2c720e2d4abac3f8734b9914186f21   \n",
       "3446  00476.7133902476448f294ee064117d96c988   \n",
       "\n",
       "                                           text_content is_spam  \n",
       "4337  So, I've been letting the little .exe of SETI@...   False  \n",
       "1455  \\n============================================...    True  \n",
       "4527  Someone says,\\n\\n> > Wow. I'm so tempted to ma...   False  \n",
       "840   Jane,\\n\\nHere is the information you requested...    True  \n",
       "3797  Peter Peltonen (peter.peltonen@iki.fi) wrote*:...   False  \n",
       "577   Your mortgage has been approved.\\r\\n\\r\\nNow ap...    True  \n",
       "1425  \\n<HTML>\\n<BODY>\\n<!DOCTYPE HTML PUBLIC \"-//W3...    True  \n",
       "4594  On 14 Aug 2002 10:59:22 -0400, \"Thomas J. Bake...   False  \n",
       "3671  use Perl Daily Headline Mailer\\n\\nTwo OSCON Li...   False  \n",
       "3446  On Fri, 6 Sep 2002, Jim Whitehead wrote:\\n--]W...   False  "
      ]
     },
     "execution_count": 24,
     "metadata": {},
     "output_type": "execute_result"
    }
   ],
   "source": [
    "strat_test_set.head(10)"
   ]
  },
  {
   "cell_type": "markdown",
   "metadata": {},
   "source": [
    "It looks like our test and training sets have a near equal proportion of ham vs spam"
   ]
  },
  {
   "cell_type": "code",
   "execution_count": 25,
   "metadata": {},
   "outputs": [],
   "source": [
    "train_x = strat_train_set['text_content'].values\n",
    "train_y = strat_train_set['is_spam'].values\n",
    "test_x = strat_test_set['text_content'].values\n",
    "test_y = strat_test_set['is_spam'].values"
   ]
  },
  {
   "cell_type": "markdown",
   "metadata": {},
   "source": [
    "Let's try using a simple pipeline similar to [this](http://scikit-learn.org/stable/auto_examples/model_selection/grid_search_text_feature_extraction.html#sphx-glr-auto-examples-model-selection-grid-search-text-feature-extraction-py), and then compare the results of that to one where we use nltk to analyze."
   ]
  },
  {
   "cell_type": "code",
   "execution_count": 26,
   "metadata": {},
   "outputs": [
    {
     "name": "stdout",
     "output_type": "stream",
     "text": [
      "Performing grid search...\n",
      "pipeline: ['vect', 'tfidf', 'clf']\n",
      "parameters:\n",
      "{'clf__alpha': (1e-05, 1e-06),\n",
      " 'clf__penalty': ('l2', 'elasticnet'),\n",
      " 'vect__ngram_range': ((1, 1), (1, 2))}\n",
      "Fitting 3 folds for each of 8 candidates, totalling 24 fits\n"
     ]
    },
    {
     "name": "stderr",
     "output_type": "stream",
     "text": [
      "[Parallel(n_jobs=-1)]: Done  24 out of  24 | elapsed:   45.6s finished\n"
     ]
    },
    {
     "name": "stdout",
     "output_type": "stream",
     "text": [
      "done in 54.580s\n",
      "\n",
      "Best score: 0.981\n",
      "Best parameters set:\n",
      "\tclf__alpha: 1e-06\n",
      "\tclf__penalty: 'l2'\n",
      "\tvect__ngram_range: (1, 2)\n"
     ]
    }
   ],
   "source": [
    "from __future__ import print_function\n",
    "\n",
    "from pprint import pprint\n",
    "from time import time\n",
    "import logging\n",
    "from sklearn.feature_extraction.text import CountVectorizer\n",
    "from sklearn.feature_extraction.text import TfidfTransformer\n",
    "from sklearn.linear_model import SGDClassifier\n",
    "from sklearn.model_selection import GridSearchCV\n",
    "from sklearn.pipeline import Pipeline\n",
    "\n",
    "pipeline = Pipeline([\n",
    "    ('vect', CountVectorizer()),\n",
    "    ('tfidf', TfidfTransformer()),\n",
    "    ('clf', SGDClassifier()),\n",
    "])\n",
    "\n",
    "# uncommenting more parameters will give better exploring power but will\n",
    "# increase processing time in a combinatorial way\n",
    "parameters = {\n",
    "#     'vect__max_df': (0.5, 0.75, 1.0),\n",
    "    #'vect__max_features': (None, 5000, 10000, 50000),\n",
    "    'vect__ngram_range': ((1, 1), (1, 2)),  # unigrams or bigrams\n",
    "    #'tfidf__use_idf': (True, False),\n",
    "    #'tfidf__norm': ('l1', 'l2'),\n",
    "    'clf__alpha': (0.00001, 0.000001),\n",
    "    'clf__penalty': ('l2', 'elasticnet'),\n",
    "    #'clf__n_iter': (10, 50, 80),\n",
    "}\n",
    "\n",
    "grid_search = GridSearchCV(pipeline, parameters, n_jobs=-1, verbose=1)\n",
    "\n",
    "print(\"Performing grid search...\")\n",
    "print(\"pipeline:\", [name for name, _ in pipeline.steps])\n",
    "print(\"parameters:\")\n",
    "pprint(parameters)\n",
    "t0 = time()\n",
    "grid_search.fit(train_x, train_y)\n",
    "print(\"done in %0.3fs\" % (time() - t0))\n",
    "print()\n",
    "\n",
    "print(\"Best score: %0.3f\" % grid_search.best_score_)\n",
    "print(\"Best parameters set:\")\n",
    "best_parameters = grid_search.best_estimator_.get_params()\n",
    "for param_name in sorted(parameters.keys()):\n",
    "    print(\"\\t%s: %r\" % (param_name, best_parameters[param_name]))"
   ]
  },
  {
   "cell_type": "code",
   "execution_count": 27,
   "metadata": {
    "scrolled": true
   },
   "outputs": [
    {
     "data": {
      "text/plain": [
       "0.98761354252683731"
      ]
     },
     "execution_count": 27,
     "metadata": {},
     "output_type": "execute_result"
    }
   ],
   "source": [
    "best_vanilla_estimator = grid_search.best_estimator_\n",
    "test_y_predicted = best_vanilla_estimator.predict(test_x)\n",
    "from sklearn.metrics import accuracy_score\n",
    "# accuracy is the % of predicated values that match the expected targets\n",
    "accuracy_score(test_y, test_y_predicted)"
   ]
  },
  {
   "cell_type": "code",
   "execution_count": 28,
   "metadata": {},
   "outputs": [
    {
     "name": "stdout",
     "output_type": "stream",
     "text": [
      "596418\n",
      "596418\n"
     ]
    }
   ],
   "source": [
    "# how many coefficients are there? Should be the same as the number of features.\n",
    "coefs = best_vanilla_estimator.named_steps['clf'].coef_[0]\n",
    "print(len(coefs))\n",
    "vect = best_vanilla_estimator.named_steps['vect']\n",
    "print(len(vect.get_feature_names()))"
   ]
  },
  {
   "cell_type": "code",
   "execution_count": 29,
   "metadata": {},
   "outputs": [
    {
     "name": "stdout",
     "output_type": "stream",
     "text": [
      "[128811 537808  80518  37903 123567 588057 484495 147505 365677 374114\n",
      "  59319 129144 475594 415225 471657 352109  80509 543483 589381 398329]\n"
     ]
    },
    {
     "data": {
      "text/plain": [
       "array([ 10.08494394,  10.2371231 ,  10.3349859 ,  10.4683755 ,\n",
       "        10.65025003,  15.15023533,  13.68164047,  16.11048099,\n",
       "        10.97595015,  12.47185038,  10.58214426,  11.20330711,\n",
       "        10.61596512,  11.54463401,  13.54304387,  12.74263544,\n",
       "        12.38372415,  17.91415574,  17.53687255,  15.88368209])"
      ]
     },
     "execution_count": 29,
     "metadata": {},
     "output_type": "execute_result"
    }
   ],
   "source": [
    "# what are the highest weights?\n",
    "from numpy import argpartition\n",
    "import numpy as np\n",
    "ind = np.argpartition(coefs, -20)[-20:]\n",
    "print(ind)\n",
    "coefs[ind]"
   ]
  },
  {
   "cell_type": "code",
   "execution_count": 30,
   "metadata": {},
   "outputs": [
    {
     "name": "stdout",
     "output_type": "stream",
     "text": [
      "['br' 'trafficmagnet' 'align center' '31 30' 'black' 'you'\n",
      " 'spamassassin sightings' 'center' 'nbsp font' 'nok' '8226' 'br br'\n",
      " 'size nbsp' 'please' 'sightings' 'money' 'align'\n",
      " 'ukqdrblkougooeoffnxsmbowei' 'your' 'our']\n"
     ]
    }
   ],
   "source": [
    "print(np.array(vect.get_feature_names())[np.array(ind)])"
   ]
  },
  {
   "cell_type": "code",
   "execution_count": 31,
   "metadata": {},
   "outputs": [
    {
     "name": "stdout",
     "output_type": "stream",
     "text": [
      "[471504 268692 329993 436125 156634  28830 353105 236920 395578 580867\n",
      " 510848 153829 353111 539696 195344 387720  42566  69578  17057 160534]\n",
      "[-10.48464947 -12.39504365 -11.87534233 -10.71941647 -10.50774475\n",
      " -14.43903122 -11.67181367 -10.25184401 -10.53168789 -12.00715695\n",
      " -19.96266592 -14.31803423 -12.22705184 -11.38437954 -15.34408399\n",
      " -10.24395113  -9.86275979  -9.91428174  -9.85856523  -9.73967341]\n",
      "['sie' 'height td' 'lockergnome' 'razor' 'cnet' '2002' 'moo' 'fool' 'org'\n",
      " 'wrote' 'the' 'class' 'moo moo' 'tripwire' 'div font' 'on' '3t' 'about'\n",
      " '0px 0px' 'com gif']\n"
     ]
    }
   ],
   "source": [
    "#how about worst correlations (indicating not spam?)\n",
    "ind = np.argpartition(coefs, 20)[:20]\n",
    "print(ind)\n",
    "print(coefs[ind])\n",
    "print(np.array(vect.get_feature_names())[np.array(ind)])"
   ]
  },
  {
   "cell_type": "markdown",
   "metadata": {},
   "source": [
    "It looks like some of the most important features to the model are html, and the 'spamassassins sightings' string, which probably wouldn't actually be in real spam. "
   ]
  },
  {
   "cell_type": "code",
   "execution_count": 32,
   "metadata": {},
   "outputs": [
    {
     "data": {
      "text/plain": [
       "array([[823,   8],\n",
       "       [  7, 373]])"
      ]
     },
     "execution_count": 32,
     "metadata": {},
     "output_type": "execute_result"
    }
   ],
   "source": [
    "from sklearn.metrics import confusion_matrix\n",
    "\n",
    "confusion_matrix(test_y, test_y_predicted)"
   ]
  },
  {
   "cell_type": "code",
   "execution_count": 33,
   "metadata": {},
   "outputs": [
    {
     "data": {
      "text/html": [
       "<div>\n",
       "<table border=\"1\" class=\"dataframe\">\n",
       "  <thead>\n",
       "    <tr style=\"text-align: right;\">\n",
       "      <th>Predicted</th>\n",
       "      <th>False</th>\n",
       "      <th>True</th>\n",
       "      <th>All</th>\n",
       "    </tr>\n",
       "    <tr>\n",
       "      <th>True</th>\n",
       "      <th></th>\n",
       "      <th></th>\n",
       "      <th></th>\n",
       "    </tr>\n",
       "  </thead>\n",
       "  <tbody>\n",
       "    <tr>\n",
       "      <th>False</th>\n",
       "      <td>823</td>\n",
       "      <td>8</td>\n",
       "      <td>831</td>\n",
       "    </tr>\n",
       "    <tr>\n",
       "      <th>True</th>\n",
       "      <td>7</td>\n",
       "      <td>373</td>\n",
       "      <td>380</td>\n",
       "    </tr>\n",
       "    <tr>\n",
       "      <th>All</th>\n",
       "      <td>830</td>\n",
       "      <td>381</td>\n",
       "      <td>1211</td>\n",
       "    </tr>\n",
       "  </tbody>\n",
       "</table>\n",
       "</div>"
      ],
      "text/plain": [
       "Predicted  False  True   All\n",
       "True                        \n",
       "False        823     8   831\n",
       "True           7   373   380\n",
       "All          830   381  1211"
      ]
     },
     "execution_count": 33,
     "metadata": {},
     "output_type": "execute_result"
    }
   ],
   "source": [
    "pd.crosstab(test_y, test_y_predicted, rownames=['True'], colnames=['Predicted'], margins=True)"
   ]
  },
  {
   "cell_type": "code",
   "execution_count": 34,
   "metadata": {},
   "outputs": [
    {
     "name": "stdout",
     "output_type": "stream",
     "text": [
      "0.979002624672\n",
      "0.981578947368\n",
      "0.980289093298\n"
     ]
    }
   ],
   "source": [
    "# let's check \n",
    "from sklearn.metrics import precision_score, recall_score\n",
    "from sklearn.metrics import f1_score\n",
    "\n",
    "print(precision_score(test_y, test_y_predicted))\n",
    "print(recall_score(test_y, test_y_predicted))\n",
    "print(f1_score(test_y, test_y_predicted))"
   ]
  },
  {
   "cell_type": "markdown",
   "metadata": {},
   "source": [
    "97% using the built in countvectorizer with no real pre-processing and an sgd predictor. Pretty good! "
   ]
  },
  {
   "cell_type": "code",
   "execution_count": 35,
   "metadata": {},
   "outputs": [],
   "source": [
    "from sklearn.model_selection import cross_val_predict\n",
    "y_scores = cross_val_predict(best_vanilla_estimator, test_x, test_y, cv=3,\n",
    "                             method=\"decision_function\")"
   ]
  },
  {
   "cell_type": "markdown",
   "metadata": {},
   "source": [
    "Precision: The accuracy of the positive predictions. Recall: The ratio of positive predictions detected by the classifier, aka 'sensitivity' or 'true positive rate' (TPR)."
   ]
  },
  {
   "cell_type": "code",
   "execution_count": 36,
   "metadata": {
    "scrolled": true
   },
   "outputs": [
    {
     "data": {
      "image/png": "[encoded data removed]",
      "text/plain": [
       "<Figure size 1080x360 with 1 Axes>"
      ]
     },
     "metadata": {},
     "output_type": "display_data"
    }
   ],
   "source": [
    "# the TRUE case is for spam. \n",
    "# so true positive is we've correctly identified spam\n",
    "# true negative is we've correctly identified ham \n",
    "# false positive is we've misidentified ham as spam (this maybe worst, as emails go missing) (Type 1 Error)\n",
    "# false negative is we've misidentified spam as ham (Type 2 Error)\n",
    "\n",
    "\n",
    "%matplotlib inline\n",
    "import matplotlib\n",
    "import matplotlib.pyplot as plt\n",
    "\n",
    "from sklearn.metrics import precision_recall_curve\n",
    "\n",
    "precisions, recalls, thresholds = precision_recall_curve(test_y, y_scores)\n",
    "\n",
    "def plot_precision_recall_vs_threshold(precisions, recalls, thresholds):\n",
    "    plt.figure(figsize=(15, 5))\n",
    "    plt.plot(thresholds, precisions[:-1], \"b--\", label=\"Precision\")\n",
    "    plt.plot(thresholds, recalls[:-1], \"g-\", label=\"Recall\")\n",
    "    plt.xlabel(\"Threshold\")\n",
    "    plt.legend(loc=\"upper left\")\n",
    "    plt.ylim([0.7, 1])\n",
    "    plt.xlim([-5, 5])\n",
    "    \n",
    "\n",
    "plot_precision_recall_vs_threshold(precisions, recalls, thresholds)\n",
    "\n",
    "plt.show()"
   ]
  },
  {
   "cell_type": "markdown",
   "metadata": {},
   "source": [
    "if we jacked up the threshold, we would lower recall (not identify as much spam), but the precision would increase (almost all spam classifications would be correct).\n",
    "if we lowered threshold, recall would increase, and we'd identify more spam, but precision would suffer, meaning we're identifying a lot of ham as spam.\n",
    "\n",
    "let's plot recall against precision"
   ]
  },
  {
   "cell_type": "code",
   "execution_count": 37,
   "metadata": {},
   "outputs": [
    {
     "data": {
      "text/plain": [
       "<Figure size 576x432 with 0 Axes>"
      ]
     },
     "metadata": {},
     "output_type": "display_data"
    },
    {
     "data": {
      "image/png": "[encoded data removed]",
      "text/plain": [
       "<Figure size 1080x360 with 1 Axes>"
      ]
     },
     "metadata": {},
     "output_type": "display_data"
    }
   ],
   "source": [
    "def plot_precision_vs_recall(precisions, recalls):\n",
    "    plt.figure(figsize=(15, 5))\n",
    "    plt.plot(recalls, precisions, \"b-\", linewidth=2)\n",
    "    plt.xlabel(\"Recall\", fontsize=16)\n",
    "    plt.ylabel(\"Precision\", fontsize=16)\n",
    "    plt.axis([0.0, 1, 0.0, 1])\n",
    "\n",
    "plt.figure(figsize=(8, 6))\n",
    "plot_precision_vs_recall(precisions, recalls)\n",
    "plt.show()"
   ]
  },
  {
   "cell_type": "code",
   "execution_count": 38,
   "metadata": {},
   "outputs": [
    {
     "data": {
      "image/png": "[encoded data removed]",
      "text/plain": [
       "<Figure size 576x432 with 1 Axes>"
      ]
     },
     "metadata": {},
     "output_type": "display_data"
    }
   ],
   "source": [
    "from sklearn.metrics import roc_curve\n",
    "# https://en.wikipedia.org/wiki/Receiver_operating_characteristic\n",
    "\n",
    "fpr, tpr, thresholds = roc_curve(test_y, y_scores)\n",
    "\n",
    "def plot_roc_curve(fpr, tpr, label=None):\n",
    "    plt.figure(figsize=(8, 6))\n",
    "    plt.plot(fpr, tpr, linewidth=2, label=label)\n",
    "    plt.plot([0, 1], [0, 1], 'k--')\n",
    "    plt.axis([0, 1, 0, 1])\n",
    "    plt.xlabel('False Positive Rate')\n",
    "    plt.ylabel('True Positive Rate')\n",
    "\n",
    "plot_roc_curve(fpr, tpr)\n",
    "plt.show()"
   ]
  },
  {
   "cell_type": "code",
   "execution_count": 39,
   "metadata": {},
   "outputs": [
    {
     "data": {
      "text/plain": [
       "0.98809614288428649"
      ]
     },
     "execution_count": 39,
     "metadata": {},
     "output_type": "execute_result"
    }
   ],
   "source": [
    "from sklearn.metrics import roc_auc_score\n",
    "roc_auc_score(test_y, y_scores)"
   ]
  },
  {
   "cell_type": "markdown",
   "metadata": {},
   "source": [
    "this is a pretty amazing score already, seems hard to improve..\n",
    "from wikipedia: \n",
    "> The true-positive rate is also known as sensitivity, recall or probability of detection[1] in machine learning. The false-positive rate is also known as the fall-out or probability of false alarm[1] and can be calculated as (1 − specificity). "
   ]
  },
  {
   "cell_type": "markdown",
   "metadata": {},
   "source": [
    "let's see if we can improve with our own text processing"
   ]
  },
  {
   "cell_type": "code",
   "execution_count": 40,
   "metadata": {},
   "outputs": [],
   "source": [
    "from nltk.corpus import stopwords\n",
    "    \n",
    "    \n",
    "def email_soup_preprocessor(text):\n",
    "    try:\n",
    "        soup = BeautifulSoup(text,'html5lib')\n",
    "        return soup.get_text(strip=True)\n",
    "    except:\n",
    "        return \"\"\n",
    "        \n",
    "def nltk_tokenizer(text):\n",
    "    tokens = nltk.word_tokenize(text)\n",
    "    tokens = [w.lower() for w in tokens]\n",
    "    # strip non alphabetical tokens\n",
    "    tokens = [w for w in tokens if w.isalpha()]\n",
    "    # remove stopwords\n",
    "    tokens = [w for w in tokens if not w in stopwords.words('english')]\n",
    "\n",
    "    # stem the tokens to remove plurals etc.\n",
    "    porter = PorterStemmer()\n",
    "    stemmed = [porter.stem(word) for word in tokens]\n",
    "    return stemmed"
   ]
  },
  {
   "cell_type": "code",
   "execution_count": 41,
   "metadata": {},
   "outputs": [],
   "source": [
    "cv = CountVectorizer(tokenizer=nltk_tokenizer, preprocessor=email_soup_preprocessor, ngram_range=(1, 2))"
   ]
  },
  {
   "cell_type": "code",
   "execution_count": 42,
   "metadata": {},
   "outputs": [
    {
     "name": "stderr",
     "output_type": "stream",
     "text": [
      "/opt/conda/lib/python3.6/site-packages/bs4/__init__.py:282: UserWarning: \"http://www.post-gazette.com/columnists/20020905brian5.asp\n",
      "\n",
      "\n",
      "\n",
      "\" looks like a URL. Beautiful Soup is not an HTTP client. You should probably use an HTTP client like requests to get the document behind the URL, and feed that document to Beautiful Soup.\n",
      "  ' that document to Beautiful Soup.' % decoded_markup\n"
     ]
    }
   ],
   "source": [
    "# doing CV step out of the pipeline as it takes forever to transform everything using nltk and beautifulsoup\n",
    "cv_transformed = cv.fit_transform(train_x)"
   ]
  },
  {
   "cell_type": "code",
   "execution_count": 43,
   "metadata": {},
   "outputs": [],
   "source": [
    "tfidf = TfidfTransformer()\n",
    "tfidf_transformed = tfidf.fit_transform(cv_transformed)"
   ]
  },
  {
   "cell_type": "code",
   "execution_count": 44,
   "metadata": {},
   "outputs": [
    {
     "name": "stdout",
     "output_type": "stream",
     "text": [
      "Performing grid search...\n",
      "pipeline: ['clf']\n",
      "parameters:\n",
      "{'clf__alpha': (1e-05, 1e-06), 'clf__penalty': ('l2', 'elasticnet')}\n",
      "Fitting 3 folds for each of 4 candidates, totalling 12 fits\n"
     ]
    },
    {
     "name": "stderr",
     "output_type": "stream",
     "text": [
      "[Parallel(n_jobs=-1)]: Done  12 out of  12 | elapsed:    0.5s finished\n"
     ]
    },
    {
     "name": "stdout",
     "output_type": "stream",
     "text": [
      "done in 0.962s\n",
      "\n",
      "Best score: 0.975\n",
      "Best parameters set:\n",
      "\tclf__alpha: 1e-05\n",
      "\tclf__penalty: 'elasticnet'\n"
     ]
    }
   ],
   "source": [
    "pipeline = Pipeline([\n",
    "#     ('vect', cv),\n",
    "#     ('tfidf', TfidfTransformer()),\n",
    "    ('clf', SGDClassifier()),\n",
    "])\n",
    "\n",
    "parameters = {\n",
    "    'clf__alpha': (0.00001, 0.000001),\n",
    "    'clf__penalty': ('l2', 'elasticnet'),\n",
    "    #'clf__n_iter': (10, 50, 80),\n",
    "}\n",
    "\n",
    "grid_search = GridSearchCV(pipeline, parameters, n_jobs=-1, verbose=1)\n",
    "\n",
    "print(\"Performing grid search...\")\n",
    "print(\"pipeline:\", [name for name, _ in pipeline.steps])\n",
    "print(\"parameters:\")\n",
    "pprint(parameters)\n",
    "t0 = time()\n",
    "grid_search.fit(tfidf_transformed, train_y)\n",
    "print(\"done in %0.3fs\" % (time() - t0))\n",
    "print()\n",
    "\n",
    "print(\"Best score: %0.3f\" % grid_search.best_score_)\n",
    "print(\"Best parameters set:\")\n",
    "best_parameters = grid_search.best_estimator_.get_params()\n",
    "for param_name in sorted(parameters.keys()):\n",
    "    print(\"\\t%s: %r\" % (param_name, best_parameters[param_name]))"
   ]
  },
  {
   "cell_type": "code",
   "execution_count": 45,
   "metadata": {},
   "outputs": [],
   "source": [
    "best_soup_estimator = grid_search.best_estimator_\n",
    "\n",
    "test_x_transformed = cv.transform(test_x)\n",
    "test_x_transformed = tfidf.transform(test_x_transformed)\n",
    "\n",
    "test_y_predicted = best_soup_estimator.predict(test_x_transformed)\n",
    "from sklearn.metrics import accuracy_score\n",
    "from sklearn.metrics import precision_score, recall_score\n",
    "from sklearn.metrics import f1_score"
   ]
  },
  {
   "cell_type": "code",
   "execution_count": 46,
   "metadata": {},
   "outputs": [],
   "source": [
    "from sklearn.model_selection import cross_val_predict\n",
    "y_scores = cross_val_predict(best_soup_estimator, test_x_transformed, test_y, cv=3,\n",
    "                             method=\"decision_function\")"
   ]
  },
  {
   "cell_type": "code",
   "execution_count": 47,
   "metadata": {},
   "outputs": [
    {
     "name": "stdout",
     "output_type": "stream",
     "text": [
      "0.985962014864\n",
      "0.984\n",
      "0.971052631579\n",
      "0.977483443709\n",
      "0.986693267465\n"
     ]
    }
   ],
   "source": [
    "print(accuracy_score(test_y, test_y_predicted))\n",
    "print(precision_score(test_y, test_y_predicted))\n",
    "print(recall_score(test_y, test_y_predicted))\n",
    "print(f1_score(test_y, test_y_predicted))\n",
    "print(roc_auc_score(test_y, y_scores))"
   ]
  },
  {
   "cell_type": "code",
   "execution_count": 48,
   "metadata": {},
   "outputs": [
    {
     "data": {
      "image/png": "[encoded data removed]",
      "text/plain": [
       "<Figure size 1080x360 with 1 Axes>"
      ]
     },
     "metadata": {},
     "output_type": "display_data"
    }
   ],
   "source": [
    "# the TRUE case is for spam. \n",
    "# so true positive is we've correctly identified spam\n",
    "# false positive is we've misidentified ham as spam (this maybe worst, as emails go missing)\n",
    "# false negative is we've correctly identified ham \n",
    "# true negative is we've misidentified spam as ham\n",
    "\n",
    "%matplotlib inline\n",
    "import matplotlib\n",
    "import matplotlib.pyplot as plt\n",
    "\n",
    "from sklearn.metrics import precision_recall_curve\n",
    "\n",
    "precisions, recalls, thresholds = precision_recall_curve(test_y, y_scores)\n",
    "\n",
    "def plot_precision_recall_vs_threshold(precisions, recalls, thresholds):\n",
    "    plt.figure(figsize=(15, 5))\n",
    "    plt.plot(thresholds, precisions[:-1], \"b--\", label=\"Precision\")\n",
    "    plt.plot(thresholds, recalls[:-1], \"g-\", label=\"Recall\")\n",
    "    plt.xlabel(\"Threshold\")\n",
    "    plt.legend(loc=\"upper left\")\n",
    "    plt.ylim([0, 1])\n",
    "    plt.xlim([-10, 10])\n",
    "    \n",
    "\n",
    "plot_precision_recall_vs_threshold(precisions, recalls, thresholds)\n",
    "plt.show()"
   ]
  },
  {
   "cell_type": "code",
   "execution_count": 49,
   "metadata": {},
   "outputs": [
    {
     "name": "stdout",
     "output_type": "stream",
     "text": [
      "375338\n",
      "375338\n",
      "[223380 164799 358663 137435 143708 219932 204975  99056 212468  96907\n",
      " 346709 266504 255174 342498 126207 299658 196151 123336 227957  24838\n",
      "  40244 149935  71010 271502 207236 228819  54052  77402 244267  77401]\n",
      "['offer' 'invest' 'webcam' 'guarante' 'hereto' 'norton' 'minut' 'enenkio'\n",
      " 'name' 'email' 'us' 'receiv' 'program' 'ukqdrblkougooeoffnxsmbowei' 'fund'\n",
      " 'site' 'market' 'free' 'opportun' 'awesom' 'busi' 'http irish' 'credit'\n",
      " 'remov' 'money' 'order' 'click' 'deathtospamdeathtospamdeathtospam email'\n",
      " 'pleas' 'deathtospamdeathtospamdeathtospam']\n"
     ]
    }
   ],
   "source": [
    "# what are the highest weights?\n",
    "coefs = best_soup_estimator.named_steps['clf'].coef_[0]\n",
    "print(len(coefs))\n",
    "vect = cv\n",
    "print(len(vect.get_feature_names()))\n",
    "\n",
    "from numpy import argpartition\n",
    "import numpy as np\n",
    "ind = np.argpartition(coefs, -30)[-30:]\n",
    "print(ind)\n",
    "coefs[ind]\n",
    "\n",
    "print(np.array(vect.get_feature_names())[np.array(ind)])"
   ]
  },
  {
   "cell_type": "markdown",
   "metadata": {},
   "source": [
    "these seem a little more reasonable than the vanilla version, but still include some things that probably aren't indicitive of spam generally, such as 'http irish', which is just a common footer. \n",
    "\n",
    "let's try including details about if it is html or not to the data and see if we can use that to help increase the score"
   ]
  },
  {
   "cell_type": "code",
   "execution_count": 50,
   "metadata": {},
   "outputs": [],
   "source": [
    "def get_email_structure(email):\n",
    "    if isinstance(email, str):\n",
    "        return email\n",
    "    payload = email.get_payload()\n",
    "    if isinstance(payload, list):\n",
    "        return \"multipart({})\".format(\", \".join([\n",
    "            get_email_structure(sub_email)\n",
    "            for sub_email in payload\n",
    "        ]))\n",
    "    else:\n",
    "        return email.get_content_type()\n",
    "    \n",
    "from collections import Counter\n",
    "\n",
    "def structures_counter(emails):\n",
    "    structures = Counter()\n",
    "    for email in emails:\n",
    "        structure = get_email_structure(email)\n",
    "        structures[structure] += 1\n",
    "    return structures    "
   ]
  },
  {
   "cell_type": "code",
   "execution_count": 51,
   "metadata": {},
   "outputs": [
    {
     "data": {
      "text/plain": [
       "[('text/plain', 3835),\n",
       " ('text/html', 120),\n",
       " ('multipart(text/plain, application/pgp-signature)', 101),\n",
       " ('multipart(text/plain, text/html)', 63),\n",
       " ('multipart(text/plain, text/plain)', 5),\n",
       " ('multipart(text/plain)', 3),\n",
       " ('multipart(text/plain, multipart(text/plain, text/plain), text/rfc822-headers)',\n",
       "  2),\n",
       " ('multipart(text/plain, application/octet-stream)', 2),\n",
       " ('multipart(text/plain, multipart(text/plain))', 2),\n",
       " ('multipart(text/plain, application/ms-tnef, text/plain)', 2),\n",
       " ('multipart(text/plain, application/x-pkcs7-signature)', 2),\n",
       " ('multipart(text/html)', 2),\n",
       " ('multipart(text/plain, multipart(text/plain, text/plain), multipart(multipart(text/plain, application/x-pkcs7-signature)))',\n",
       "  1),\n",
       " ('multipart(text/plain, application/x-java-applet)', 1),\n",
       " ('multipart(text/plain, text/enriched)', 1),\n",
       " ('multipart(multipart(text/plain, text/plain, text/plain), application/pgp-signature)',\n",
       "  1),\n",
       " ('multipart(text/plain, video/mng)', 1),\n",
       " ('multipart(text/plain, text/plain, text/plain)', 1),\n",
       " ('multipart(multipart(text/plain, text/html), image/jpeg, image/gif, image/gif, image/gif, image/gif)',\n",
       "  1),\n",
       " ('multipart(text/plain, application/x-patch)', 1),\n",
       " ('multipart(multipart(text/plain, multipart(text/plain), text/plain), application/pgp-signature)',\n",
       "  1),\n",
       " ('multipart(text/plain, application/ms-tnef)', 1),\n",
       " ('multipart(text/plain, image/bmp)', 1),\n",
       " ('multipart(multipart(text/plain, text/html), image/gif, image/gif, image/gif, image/gif, image/gif, image/gif, image/gif, image/gif, image/gif, image/gif, image/gif, image/jpeg, image/gif, image/gif, image/gif, image/gif, image/gif, image/gif)',\n",
       "  1),\n",
       " ('multipart(multipart(text/plain, text/html))', 1),\n",
       " ('multipart(text/plain, image/png, image/png)', 1)]"
      ]
     },
     "execution_count": 51,
     "metadata": {},
     "output_type": "execute_result"
    }
   ],
   "source": [
    "structures_counter(list(x['email'] for x in ham_emails)).most_common()"
   ]
  },
  {
   "cell_type": "code",
   "execution_count": 52,
   "metadata": {},
   "outputs": [
    {
     "data": {
      "text/plain": [
       "[('text/plain', 817),\n",
       " ('text/html', 772),\n",
       " ('multipart(text/plain, text/html)', 159),\n",
       " ('multipart(text/html)', 49),\n",
       " ('multipart(text/plain)', 44),\n",
       " ('multipart(multipart(text/html))', 23),\n",
       " ('multipart(multipart(text/plain, text/html))', 5),\n",
       " ('multipart(text/plain, image/jpeg)', 3),\n",
       " ('multipart(text/plain, application/octet-stream)', 3),\n",
       " ('multipart(text/html, text/plain)', 3),\n",
       " ('multipart(text/plain, application/octet-stream, text/plain)', 3),\n",
       " ('multipart/alternative', 2),\n",
       " ('multipart(text/html, application/octet-stream)', 2),\n",
       " ('multipart(text/html, image/jpeg)', 2),\n",
       " ('multipart(multipart(text/plain), application/octet-stream)', 2),\n",
       " ('multipart(multipart(text/plain, text/html), image/gif)', 1),\n",
       " ('multipart(multipart(text/html), application/octet-stream, image/jpeg)', 1),\n",
       " ('text/plain charset=us-ascii', 1),\n",
       " ('multipart(multipart(text/plain, text/html), image/jpeg, image/jpeg, image/jpeg, image/jpeg, image/jpeg)',\n",
       "  1),\n",
       " ('multipart(text/plain, multipart(text/plain))', 1),\n",
       " ('multipart(multipart(text/plain, text/html), image/jpeg, image/jpeg, image/jpeg, image/jpeg, image/gif)',\n",
       "  1),\n",
       " ('multipart(multipart(text/html), image/gif)', 1),\n",
       " ('multipart(multipart(text/plain, text/html), application/octet-stream, application/octet-stream, application/octet-stream, application/octet-stream)',\n",
       "  1),\n",
       " ('multipart(multipart(text/plain, text/html), image/gif, image/jpeg)', 1)]"
      ]
     },
     "execution_count": 52,
     "metadata": {},
     "output_type": "execute_result"
    }
   ],
   "source": [
    "structures_counter(list(x['email'] for x in spam_emails)).most_common()"
   ]
  },
  {
   "cell_type": "markdown",
   "metadata": {},
   "source": [
    "for looking at content-type, let's just check for presence of 3 attributes: 'text/plain', 'text/html', and 'pgp'\n",
    "\n",
    "We've already got the VectorCounter from earlier, let's just reuse that and add a new estimator to add these 3 columns"
   ]
  },
  {
   "cell_type": "code",
   "execution_count": 53,
   "metadata": {},
   "outputs": [],
   "source": [
    "content_types = strat_train_set['email'].apply(lambda email: get_email_structure(email))\n",
    "is_plain_text = content_types.apply(lambda content_type: float('text/plain' == content_type))\n",
    "is_html = content_types.apply(lambda content_type: float('text/html' in content_type))\n",
    "is_pgp = content_types.apply(lambda content_type: float('pgp' in content_type))"
   ]
  },
  {
   "cell_type": "code",
   "execution_count": 54,
   "metadata": {},
   "outputs": [
    {
     "data": {
      "text/plain": [
       "<4840x375338 sparse matrix of type '<class 'numpy.float64'>'\n",
       "\twith 1045007 stored elements in Compressed Sparse Row format>"
      ]
     },
     "execution_count": 54,
     "metadata": {},
     "output_type": "execute_result"
    }
   ],
   "source": [
    "tfidf_transformed"
   ]
  },
  {
   "cell_type": "code",
   "execution_count": 55,
   "metadata": {},
   "outputs": [],
   "source": [
    "from scipy.sparse import hstack\n",
    "\n",
    "stacked_train_x = hstack( (tfidf_transformed, np.array(is_plain_text.values)[:,None]) )\n",
    "stacked_train_x = hstack( (stacked_train_x, np.array(is_html.values)[:,None]) )\n",
    "stacked_train_x = hstack( (stacked_train_x, np.array(is_pgp.values)[:,None]) )"
   ]
  },
  {
   "cell_type": "code",
   "execution_count": 56,
   "metadata": {},
   "outputs": [
    {
     "data": {
      "text/plain": [
       "<4840x375341 sparse matrix of type '<class 'numpy.float64'>'\n",
       "\twith 1049783 stored elements in COOrdinate format>"
      ]
     },
     "execution_count": 56,
     "metadata": {},
     "output_type": "execute_result"
    }
   ],
   "source": [
    "stacked_train_x"
   ]
  },
  {
   "cell_type": "code",
   "execution_count": 64,
   "metadata": {},
   "outputs": [
    {
     "name": "stdout",
     "output_type": "stream",
     "text": [
      "Performing grid search...\n",
      "pipeline: ['clf']\n",
      "parameters:\n",
      "{'clf__alpha': (1e-05, 1e-06), 'clf__penalty': ('l2', 'elasticnet')}\n",
      "Fitting 3 folds for each of 4 candidates, totalling 12 fits\n",
      "done in 0.881s\n",
      "\n",
      "Best score: 0.969\n",
      "Best parameters set:\n",
      "\tclf__alpha: 1e-05\n",
      "\tclf__penalty: 'elasticnet'\n"
     ]
    },
    {
     "name": "stderr",
     "output_type": "stream",
     "text": [
      "[Parallel(n_jobs=-1)]: Done  12 out of  12 | elapsed:    0.5s finished\n"
     ]
    }
   ],
   "source": [
    "pipeline = Pipeline([\n",
    "#     ('vect', cv),\n",
    "#     ('tfidf', TfidfTransformer()),\n",
    "    ('clf', SGDClassifier()),\n",
    "])\n",
    "\n",
    "parameters = {\n",
    "    'clf__alpha': (0.00001, 0.000001),\n",
    "    'clf__penalty': ('l2', 'elasticnet'),\n",
    "#     'clf__n_iter': (10, 50, 80),\n",
    "}\n",
    "\n",
    "grid_search = GridSearchCV(pipeline, parameters, n_jobs=-1, verbose=1)\n",
    "\n",
    "print(\"Performing grid search...\")\n",
    "print(\"pipeline:\", [name for name, _ in pipeline.steps])\n",
    "print(\"parameters:\")\n",
    "pprint(parameters)\n",
    "t0 = time()\n",
    "grid_search.fit(stacked_train_x, train_y)\n",
    "print(\"done in %0.3fs\" % (time() - t0))\n",
    "print()\n",
    "\n",
    "print(\"Best score: %0.3f\" % grid_search.best_score_)\n",
    "print(\"Best parameters set:\")\n",
    "best_parameters = grid_search.best_estimator_.get_params()\n",
    "for param_name in sorted(parameters.keys()):\n",
    "    print(\"\\t%s: %r\" % (param_name, best_parameters[param_name]))"
   ]
  },
  {
   "cell_type": "code",
   "execution_count": 65,
   "metadata": {},
   "outputs": [
    {
     "name": "stdout",
     "output_type": "stream",
     "text": [
      "375341\n",
      "[208895 357296 149829 354008 299160 186818 263410 358912  77248 255174\n",
      " 316188  54201 126207 227957 207236 244267  71010 212468 228819 123336\n",
      "  77401 137435 346709 164799 266504 272316  40244  77402 271502  54052]\n",
      "['mortgag' 'watchdog' 'http http' 'visit' 'sincer' 'loan' 'rate' 'websit'\n",
      " 'dear' 'program' 'stylu' 'click link' 'fund' 'opportun' 'money' 'pleas'\n",
      " 'credit' 'name' 'order' 'free' 'deathtospamdeathtospamdeathtospam'\n",
      " 'guarante' 'us' 'invest' 'receiv' 'repli' 'busi'\n",
      " 'deathtospamdeathtospamdeathtospam email' 'remov' 'click']\n"
     ]
    },
    {
     "data": {
      "text/plain": [
       "array([  4.63126016,   4.74083965,   4.74554917,   4.88706934,\n",
       "         4.93608062,   5.11625862,   4.94306913,   5.14986848,\n",
       "         5.37802571,   5.17376873,   5.62233817,   5.16043376,\n",
       "         5.68898829,   7.22637402,   9.94221591,  13.29232587,\n",
       "         9.35860783,   7.21908696,   6.11740549,  12.21404171,\n",
       "         5.93149548,   6.56617409,   7.6967615 ,   6.0577948 ,\n",
       "         6.09542333,   5.70473072,   7.37544924,   5.93149548,\n",
       "        15.38454416,  10.81633864])"
      ]
     },
     "execution_count": 65,
     "metadata": {},
     "output_type": "execute_result"
    }
   ],
   "source": [
    "best_content_type_estimator = grid_search.best_estimator_\n",
    "coefs = best_content_type_estimator.named_steps['clf'].coef_[0]\n",
    "print(len(coefs))\n",
    "\n",
    "\n",
    "from numpy import argpartition\n",
    "import numpy as np\n",
    "ind = np.argpartition(coefs, -30)[-30:]\n",
    "print(ind)\n",
    "print(np.array(vect.get_feature_names())[np.array(ind)])\n",
    "coefs[ind]"
   ]
  },
  {
   "cell_type": "code",
   "execution_count": 66,
   "metadata": {},
   "outputs": [
    {
     "name": "stdout",
     "output_type": "stream",
     "text": [
      "[281952 362878 201568 346647 346617 347622 280704 369264 324743 149203\n",
      "  56876  83814 306527 203063 292312 284097  75211  55420 215690 114673]\n"
     ]
    },
    {
     "data": {
      "text/plain": [
       "array([ -6.52795276,  -5.18948628,  -5.86716064,  -5.89946963,\n",
       "        -5.61684725,  -5.72183816,  -5.31268501,  -7.69981558,\n",
       "        -5.11849366,  -5.91926085,  -4.31874935,  -4.21572899,\n",
       "        -6.17119969,  -4.26585044,  -4.8499167 ,  -4.87653053,\n",
       "        -5.49155548, -10.68062546,  -5.64064678,  -6.22541997])"
      ]
     },
     "execution_count": 66,
     "metadata": {},
     "output_type": "execute_result"
    }
   ],
   "source": [
    "#how about worst correlations (indicating not spam?)\n",
    "ind = np.argpartition(coefs, 20)[:20]\n",
    "print(ind)\n",
    "coefs[ind]"
   ]
  },
  {
   "cell_type": "markdown",
   "metadata": {},
   "source": [
    "the last 3 coefficients were is_plaintext, is_html, and is_pgp. It looks like plaintext/pgp are strong indicators against it being spam, and html content type coefficient is near 0, meaning it doesn't indicate much."
   ]
  },
  {
   "cell_type": "code",
   "execution_count": 67,
   "metadata": {},
   "outputs": [
    {
     "data": {
      "text/plain": [
       "array([-3.86881979,  0.09292222, -4.16554621])"
      ]
     },
     "execution_count": 67,
     "metadata": {},
     "output_type": "execute_result"
    }
   ],
   "source": [
    "coefs[-3:]"
   ]
  },
  {
   "cell_type": "code",
   "execution_count": 68,
   "metadata": {},
   "outputs": [],
   "source": [
    "content_types_test = strat_test_set['email'].apply(lambda email: get_email_structure(email))\n",
    "is_plain_text_test = content_types_test.apply(lambda content_type: float('text/plain' == content_type))\n",
    "is_html_test = content_types_test.apply(lambda content_type: float('text/html' == content_type))\n",
    "is_pgp_test = content_types_test.apply(lambda content_type: float('pgp' in content_type))"
   ]
  },
  {
   "cell_type": "code",
   "execution_count": 69,
   "metadata": {},
   "outputs": [],
   "source": [
    "stacked_test_x = hstack( (test_x_transformed, np.array(is_plain_text_test.values)[:,None]) )\n",
    "stacked_test_x = hstack( (stacked_test_x, np.array(is_html_test.values)[:,None]) )\n",
    "stacked_test_x = hstack( (stacked_test_x, np.array(is_pgp_test.values)[:,None]) )\n",
    "\n",
    "test_y_predicted = best_content_type_estimator.predict(stacked_test_x)\n",
    "from sklearn.metrics import accuracy_score"
   ]
  },
  {
   "cell_type": "code",
   "execution_count": 70,
   "metadata": {},
   "outputs": [
    {
     "name": "stdout",
     "output_type": "stream",
     "text": [
      "0.986787778695\n",
      "0.986631016043\n",
      "0.971052631579\n",
      "0.978779840849\n",
      "0.986870606118\n"
     ]
    }
   ],
   "source": [
    "# let's check \n",
    "from sklearn.metrics import precision_score, recall_score\n",
    "from sklearn.metrics import f1_score\n",
    "\n",
    "y_scores = cross_val_predict(best_content_type_estimator, stacked_test_x, test_y, cv=3,\n",
    "                             method=\"decision_function\")\n",
    "\n",
    "print(accuracy_score(test_y, test_y_predicted))\n",
    "print(precision_score(test_y, test_y_predicted))\n",
    "print(recall_score(test_y, test_y_predicted))\n",
    "print(f1_score(test_y, test_y_predicted))\n",
    "print(roc_auc_score(test_y, y_scores))"
   ]
  },
  {
   "cell_type": "markdown",
   "metadata": {},
   "source": [
    "previous results are slightly worse. we gained just a little bit it seems..\n",
    "\n",
    "0.985962014864\n",
    "\n",
    "0.984\n",
    "\n",
    "0.971052631579\n",
    "\n",
    "0.977483443709\n",
    "\n",
    "0.986693267465"
   ]
  },
  {
   "cell_type": "markdown",
   "metadata": {},
   "source": [
    "todo:\n",
    "- would be nice to clean up the analysis of results into a common function. \n",
    "- clean up processing into union pipeline in last scenario. apparently latest sklearn pipeline has caching which could make countvectorizer much faster to repeatedly transform."
   ]
  }
 ],
 "metadata": {
  "kernelspec": {
   "display_name": "Python 3",
   "language": "python",
   "name": "python3"
  },
  "language_info": {
   "codemirror_mode": {
    "name": "ipython",
    "version": 3
   },
   "file_extension": ".py",
   "mimetype": "text/x-python",
   "name": "python",
   "nbconvert_exporter": "python",
   "pygments_lexer": "ipython3",
   "version": "3.6.5"
  }
 },
 "nbformat": 4,
 "nbformat_minor": 2
}
