{
 "cells": [
  {
   "cell_type": "markdown",
   "metadata": {
    "collapsed": true
   },
   "source": [
    "### Exercises\n",
    "\n",
    "**Q1**: Try to build a classifier for the MNIST dataset that achieves over 97% accuracy on the test set. Hint: the KNeighborsClassifier works quite well for this task; you just need to find good hyperparameter values (try a grid search on the weights and n_neighbors hyperparameters).\n",
    "\n",
    "**A1**:"
   ]
  },
  {
   "cell_type": "code",
   "execution_count": 1,
   "metadata": {
    "collapsed": true
   },
   "outputs": [],
   "source": [
    "# get the data\n",
    "from sklearn.datasets import fetch_mldata\n",
    "mnist = fetch_mldata('MNIST original', data_home='./tmp')"
   ]
  },
  {
   "cell_type": "code",
   "execution_count": 2,
   "metadata": {},
   "outputs": [
    {
     "name": "stdout",
     "output_type": "stream",
     "text": [
      "mldata.org dataset: mnist-original\n",
      "(70000, 784)\n",
      "(70000,)\n"
     ]
    }
   ],
   "source": [
    "X, y = mnist[\"data\"], mnist[\"target\"]\n",
    "print(mnist.DESCR)\n",
    "print(X.shape)\n",
    "print(y.shape)"
   ]
  },
  {
   "cell_type": "markdown",
   "metadata": {},
   "source": [
    "The MINST dataset is already split into training (60,000) and test (10,000) entries, so let's separate those.\n",
    "\n",
    "Also, the data is organized by digit, but we should randomize the order as some algorithms are sensitive to pre-sorted data:"
   ]
  },
  {
   "cell_type": "code",
   "execution_count": 3,
   "metadata": {
    "collapsed": true
   },
   "outputs": [],
   "source": [
    "X_train, X_test, y_train, y_test = X[:60000], X[60000:], y[:60000], y[60000:]\n",
    "\n",
    "import numpy as np\n",
    "\n",
    "shuffle_index = np.random.permutation(60000)\n",
    "X_train, y_train = X_train[shuffle_index], y_train[shuffle_index]"
   ]
  },
  {
   "cell_type": "code",
   "execution_count": 4,
   "metadata": {
    "collapsed": true
   },
   "outputs": [],
   "source": [
    "X_train_small = X_train[:5000]\n",
    "y_train_small = y_train[:5000]"
   ]
  },
  {
   "cell_type": "code",
   "execution_count": 5,
   "metadata": {},
   "outputs": [
    {
     "name": "stdout",
     "output_type": "stream",
     "text": [
      "Fitting 3 folds for each of 6 candidates, totalling 18 fits\n",
      "[CV] n_neighbors=2, weights=uniform ..................................\n",
      "[CV] n_neighbors=2, weights=uniform ..................................\n",
      "[CV] n_neighbors=2, weights=uniform ..................................\n",
      "[CV] n_neighbors=2, weights=distance .................................\n",
      "[CV] n_neighbors=2, weights=distance .................................\n",
      "[CV] n_neighbors=2, weights=distance .................................\n",
      "[CV] ... n_neighbors=2, weights=uniform, score=0.917365, total=  10.6s\n",
      "[CV] n_neighbors=4, weights=uniform ..................................\n",
      "[CV] ... n_neighbors=2, weights=uniform, score=0.915966, total=  10.7s\n",
      "[CV] n_neighbors=4, weights=uniform ..................................\n",
      "[CV] ... n_neighbors=2, weights=uniform, score=0.917067, total=  10.7s\n",
      "[CV] n_neighbors=4, weights=uniform ..................................\n",
      "[CV] .. n_neighbors=2, weights=distance, score=0.937725, total=  10.7s\n",
      "[CV] n_neighbors=4, weights=distance .................................\n",
      "[CV] .. n_neighbors=2, weights=distance, score=0.936899, total=  10.7s\n",
      "[CV] n_neighbors=4, weights=distance .................................\n",
      "[CV] .. n_neighbors=2, weights=distance, score=0.919568, total=  10.7s\n",
      "[CV] n_neighbors=4, weights=distance .................................\n",
      "[CV] ... n_neighbors=4, weights=uniform, score=0.932335, total=  10.5s\n",
      "[CV] n_neighbors=6, weights=uniform ..................................\n",
      "[CV] .. n_neighbors=4, weights=distance, score=0.938702, total=  10.2s\n",
      "[CV] n_neighbors=6, weights=uniform ..................................\n",
      "[CV] ... n_neighbors=4, weights=uniform, score=0.912965, total=  10.4s\n",
      "[CV] n_neighbors=6, weights=uniform ..................................\n",
      "[CV] .. n_neighbors=4, weights=distance, score=0.944311, total=  10.5s\n",
      "[CV] n_neighbors=6, weights=distance .................................\n",
      "[CV] .. n_neighbors=4, weights=distance, score=0.920768, total=  10.5s\n",
      "[CV] n_neighbors=6, weights=distance .................................\n",
      "[CV] ... n_neighbors=4, weights=uniform, score=0.930288, total=  10.7s\n",
      "[CV] n_neighbors=6, weights=distance .................................\n",
      "[CV] ... n_neighbors=6, weights=uniform, score=0.932934, total=  11.5s\n",
      "[CV] ... n_neighbors=6, weights=uniform, score=0.912365, total=  11.1s\n"
     ]
    },
    {
     "name": "stderr",
     "output_type": "stream",
     "text": [
      "[Parallel(n_jobs=-1)]: Done  14 out of  18 | elapsed:  1.6min remaining:   26.8s\n"
     ]
    },
    {
     "name": "stdout",
     "output_type": "stream",
     "text": [
      "[CV] ... n_neighbors=6, weights=uniform, score=0.925481, total=  11.5s\n",
      "[CV] .. n_neighbors=6, weights=distance, score=0.919568, total=  11.5s\n",
      "[CV] .. n_neighbors=6, weights=distance, score=0.931490, total=  11.5s\n",
      "[CV] .. n_neighbors=6, weights=distance, score=0.939521, total=  11.8s\n"
     ]
    },
    {
     "name": "stderr",
     "output_type": "stream",
     "text": [
      "[Parallel(n_jobs=-1)]: Done  18 out of  18 | elapsed:  1.6min finished\n"
     ]
    },
    {
     "data": {
      "text/plain": [
       "GridSearchCV(cv=3, error_score='raise',\n",
       "       estimator=KNeighborsClassifier(algorithm='auto', leaf_size=30, metric='minkowski',\n",
       "           metric_params=None, n_jobs=1, n_neighbors=5, p=2,\n",
       "           weights='uniform'),\n",
       "       fit_params={}, iid=True, n_jobs=-1,\n",
       "       param_grid=[{'weights': ['uniform', 'distance'], 'n_neighbors': [2, 4, 6]}],\n",
       "       pre_dispatch='2*n_jobs', refit=True, return_train_score=True,\n",
       "       scoring='accuracy', verbose=3)"
      ]
     },
     "execution_count": 5,
     "metadata": {},
     "output_type": "execute_result"
    }
   ],
   "source": [
    "from sklearn.model_selection import GridSearchCV\n",
    "from sklearn.neighbors import KNeighborsClassifier\n",
    "param_grid = [\n",
    "    {'weights': ['uniform', 'distance'], 'n_neighbors': [2,4,6]}\n",
    "  ]\n",
    "\n",
    "knn_clf = KNeighborsClassifier()\n",
    "knn_grid_search = GridSearchCV(knn_clf, param_grid, cv=3,\n",
    "                           scoring='accuracy', n_jobs=-1, verbose=3)\n",
    "\n",
    "knn_grid_search.fit(X_train_small, y_train_small)"
   ]
  },
  {
   "cell_type": "code",
   "execution_count": 6,
   "metadata": {},
   "outputs": [
    {
     "data": {
      "text/plain": [
       "{'n_neighbors': 4, 'weights': 'distance'}"
      ]
     },
     "execution_count": 6,
     "metadata": {},
     "output_type": "execute_result"
    }
   ],
   "source": [
    "knn_grid_search.best_params_"
   ]
  },
  {
   "cell_type": "code",
   "execution_count": 10,
   "metadata": {
    "collapsed": true
   },
   "outputs": [],
   "source": [
    "best_knn_clf = KNeighborsClassifier(weights='distance', n_neighbors=4, n_jobs=-1)"
   ]
  },
  {
   "cell_type": "code",
   "execution_count": 11,
   "metadata": {},
   "outputs": [
    {
     "name": "stdout",
     "output_type": "stream",
     "text": [
      "[CV]  ................................................................\n",
      "[CV]  ................................................................\n",
      "[CV]  ................................................................\n",
      "[CV] ................................. , score=0.971396, total=16.2min\n",
      "[CV] ................................. , score=0.972199, total=16.3min\n",
      "[CV] ................................. , score=0.971956, total=16.3min\n"
     ]
    },
    {
     "name": "stderr",
     "output_type": "stream",
     "text": [
      "[Parallel(n_jobs=-1)]: Done   3 out of   3 | elapsed: 16.3min finished\n"
     ]
    }
   ],
   "source": [
    "from sklearn.model_selection import cross_val_score\n",
    "scores = cross_val_score(best_knn_clf, X_train, y_train, cv=3, n_jobs=-1, verbose=3)"
   ]
  },
  {
   "cell_type": "code",
   "execution_count": 12,
   "metadata": {},
   "outputs": [
    {
     "name": "stdout",
     "output_type": "stream",
     "text": [
      "Accuracy: 0.97 (+/- 0.00)\n"
     ]
    }
   ],
   "source": [
    "print(\"Accuracy: %0.2f (+/- %0.2f)\" % (scores.mean(), scores.std() * 2))"
   ]
  },
  {
   "cell_type": "markdown",
   "metadata": {},
   "source": [
    "Huzzah, 97% This takes a while to run..\n",
    "We were able to speed up the grid search by using a smaller subset of the training data, then using the found hyperparameters on the full set w/ cross validation and that made this reasonably fast. Perhaps we could try dimensionality reduction to increase performance even more."
   ]
  }
 ],
 "metadata": {
  "kernelspec": {
   "display_name": "Python 3",
   "language": "python",
   "name": "python3"
  },
  "language_info": {
   "codemirror_mode": {
    "name": "ipython",
    "version": 3
   },
   "file_extension": ".py",
   "mimetype": "text/x-python",
   "name": "python",
   "nbconvert_exporter": "python",
   "pygments_lexer": "ipython3",
   "version": "3.6.1"
  }
 },
 "nbformat": 4,
 "nbformat_minor": 2
}
